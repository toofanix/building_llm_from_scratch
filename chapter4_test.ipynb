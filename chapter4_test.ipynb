{
 "cells": [
  {
   "cell_type": "code",
   "execution_count": null,
   "metadata": {},
   "outputs": [],
   "source": [
    "GPT_CONFIG_124M = {\n",
    "    \"vocab_size\": 50527, # vocab size\n",
    "    \"context_length\": 1024, # context length\n",
    "    \"emb_dim\": 768, # Embedding dimension,\n",
    "    \"n_heads\": 12, # Number of attention heads\n",
    "    \"n_layers\": 12, # Number of layers\n",
    "    \"drop_rate\": 1, # dropout rate\n",
    "    \"qkv_bias\": False # Query-Key-Value bias\n",
    "}"
   ]
  },
  {
   "cell_type": "code",
   "execution_count": 1,
   "metadata": {},
   "outputs": [],
   "source": [
    "import torch\n",
    "import torch.nn as nn"
   ]
  },
  {
   "cell_type": "code",
   "execution_count": 6,
   "metadata": {},
   "outputs": [],
   "source": [
    "class DummyGPTModel(nn.Module):\n",
    "    def __init__(self, cfg):\n",
    "        super().__init__()\n",
    "        self.tok_emb = nn.Embedding(cfg['vocab_size'], cfg['emb_dim'])\n",
    "        self.pos_emb = nn.Embedding(cfg['context_length'], cfg['emb_dim'])\n",
    "        self.drop_emb = nn.Dropout(cfg['drop_rate'])\n",
    "        # Using a placeholder transformer block that will be defined and uses later\n",
    "        self.trf_blocks = nn.Sequential(\n",
    "            *[DummyTransformerBlock(cfg) for _ in range(cfg['n_layers'])]\n",
    "        ) \n",
    "        # Using a placehold for the LayerNorm that will be implemented and used later\n",
    "        self.final_norm = DummyLayerNorm(cfg['emb_dim'])\n",
    "        self.out_head = nn.Linear(cfg['emb_dim'], cfg['vocab_size'], bias=False)\n",
    "\n",
    "        def forward(self, in_idx):\n",
    "            batch_size, seq_len = in_idx.shape\n",
    "            tok_embeds = self.tok_emb(in_idx)\n",
    "            pos_embeds = self.pos_emb(torch.arange(seq_len, device=in_idx.device))\n",
    "            x = tok_embeds + pos_embeds\n",
    "            x = self.drop_emb(x)\n",
    "            x = self.trf_blocks(x)\n",
    "            x = self.final_norm(x)\n",
    "            logits = self.out_head(x)\n",
    "            return logits\n",
    "        \n",
    "class DummyTransformerBlock(nn.Module):\n",
    "    # Dummy transformer block that will be replaced by a real one later\n",
    "    def __init__(self, cfg):\n",
    "        super().__init__()\n",
    "\n",
    "    def forward(self, x):\n",
    "        return x # does nothing but return the input\n",
    "    \n",
    "class DummyLayerNorm(nn.Module):\n",
    "    # Simple placeholder to be replaced by LayerNorm\n",
    "    def __init__(self, normalized_shape, eps=1e-5): # paramters for the layernorm interface.\n",
    "        super().__init__()    \n",
    "\n",
    "    def forward(self, x):\n",
    "        return x # Does nothing but return the input"
   ]
  },
  {
   "cell_type": "code",
   "execution_count": null,
   "metadata": {},
   "outputs": [],
   "source": []
  }
 ],
 "metadata": {
  "kernelspec": {
   "display_name": "build_llm",
   "language": "python",
   "name": "python3"
  },
  "language_info": {
   "codemirror_mode": {
    "name": "ipython",
    "version": 3
   },
   "file_extension": ".py",
   "mimetype": "text/x-python",
   "name": "python",
   "nbconvert_exporter": "python",
   "pygments_lexer": "ipython3",
   "version": "3.11.8"
  }
 },
 "nbformat": 4,
 "nbformat_minor": 2
}
