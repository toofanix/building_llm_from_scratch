{
 "cells": [
  {
   "cell_type": "code",
   "execution_count": 1,
   "metadata": {},
   "outputs": [
    {
     "data": {
      "text/plain": [
       "GPTModel(\n",
       "  (tok_emb): Embedding(50257, 768)\n",
       "  (pos_emb): Embedding(256, 768)\n",
       "  (drop_emb): Dropout(p=0.1, inplace=False)\n",
       "  (trf_blocks): Sequential(\n",
       "    (0): TransformerBlock(\n",
       "      (att): MultiHeadAttention(\n",
       "        (W_query): Linear(in_features=768, out_features=768, bias=False)\n",
       "        (W_key): Linear(in_features=768, out_features=768, bias=False)\n",
       "        (W_value): Linear(in_features=768, out_features=768, bias=False)\n",
       "        (out_proj): Linear(in_features=768, out_features=768, bias=True)\n",
       "        (dropout): Dropout(p=0.1, inplace=False)\n",
       "      )\n",
       "      (ff): FeedForward(\n",
       "        (layers): Sequential(\n",
       "          (0): Linear(in_features=768, out_features=3072, bias=True)\n",
       "          (1): GELU()\n",
       "          (2): Linear(in_features=3072, out_features=768, bias=True)\n",
       "        )\n",
       "      )\n",
       "      (norm1): LayerNorm()\n",
       "      (norm2): LayerNorm()\n",
       "      (drop_shortcut): Dropout(p=0.1, inplace=False)\n",
       "    )\n",
       "    (1): TransformerBlock(\n",
       "      (att): MultiHeadAttention(\n",
       "        (W_query): Linear(in_features=768, out_features=768, bias=False)\n",
       "        (W_key): Linear(in_features=768, out_features=768, bias=False)\n",
       "        (W_value): Linear(in_features=768, out_features=768, bias=False)\n",
       "        (out_proj): Linear(in_features=768, out_features=768, bias=True)\n",
       "        (dropout): Dropout(p=0.1, inplace=False)\n",
       "      )\n",
       "      (ff): FeedForward(\n",
       "        (layers): Sequential(\n",
       "          (0): Linear(in_features=768, out_features=3072, bias=True)\n",
       "          (1): GELU()\n",
       "          (2): Linear(in_features=3072, out_features=768, bias=True)\n",
       "        )\n",
       "      )\n",
       "      (norm1): LayerNorm()\n",
       "      (norm2): LayerNorm()\n",
       "      (drop_shortcut): Dropout(p=0.1, inplace=False)\n",
       "    )\n",
       "    (2): TransformerBlock(\n",
       "      (att): MultiHeadAttention(\n",
       "        (W_query): Linear(in_features=768, out_features=768, bias=False)\n",
       "        (W_key): Linear(in_features=768, out_features=768, bias=False)\n",
       "        (W_value): Linear(in_features=768, out_features=768, bias=False)\n",
       "        (out_proj): Linear(in_features=768, out_features=768, bias=True)\n",
       "        (dropout): Dropout(p=0.1, inplace=False)\n",
       "      )\n",
       "      (ff): FeedForward(\n",
       "        (layers): Sequential(\n",
       "          (0): Linear(in_features=768, out_features=3072, bias=True)\n",
       "          (1): GELU()\n",
       "          (2): Linear(in_features=3072, out_features=768, bias=True)\n",
       "        )\n",
       "      )\n",
       "      (norm1): LayerNorm()\n",
       "      (norm2): LayerNorm()\n",
       "      (drop_shortcut): Dropout(p=0.1, inplace=False)\n",
       "    )\n",
       "    (3): TransformerBlock(\n",
       "      (att): MultiHeadAttention(\n",
       "        (W_query): Linear(in_features=768, out_features=768, bias=False)\n",
       "        (W_key): Linear(in_features=768, out_features=768, bias=False)\n",
       "        (W_value): Linear(in_features=768, out_features=768, bias=False)\n",
       "        (out_proj): Linear(in_features=768, out_features=768, bias=True)\n",
       "        (dropout): Dropout(p=0.1, inplace=False)\n",
       "      )\n",
       "      (ff): FeedForward(\n",
       "        (layers): Sequential(\n",
       "          (0): Linear(in_features=768, out_features=3072, bias=True)\n",
       "          (1): GELU()\n",
       "          (2): Linear(in_features=3072, out_features=768, bias=True)\n",
       "        )\n",
       "      )\n",
       "      (norm1): LayerNorm()\n",
       "      (norm2): LayerNorm()\n",
       "      (drop_shortcut): Dropout(p=0.1, inplace=False)\n",
       "    )\n",
       "    (4): TransformerBlock(\n",
       "      (att): MultiHeadAttention(\n",
       "        (W_query): Linear(in_features=768, out_features=768, bias=False)\n",
       "        (W_key): Linear(in_features=768, out_features=768, bias=False)\n",
       "        (W_value): Linear(in_features=768, out_features=768, bias=False)\n",
       "        (out_proj): Linear(in_features=768, out_features=768, bias=True)\n",
       "        (dropout): Dropout(p=0.1, inplace=False)\n",
       "      )\n",
       "      (ff): FeedForward(\n",
       "        (layers): Sequential(\n",
       "          (0): Linear(in_features=768, out_features=3072, bias=True)\n",
       "          (1): GELU()\n",
       "          (2): Linear(in_features=3072, out_features=768, bias=True)\n",
       "        )\n",
       "      )\n",
       "      (norm1): LayerNorm()\n",
       "      (norm2): LayerNorm()\n",
       "      (drop_shortcut): Dropout(p=0.1, inplace=False)\n",
       "    )\n",
       "    (5): TransformerBlock(\n",
       "      (att): MultiHeadAttention(\n",
       "        (W_query): Linear(in_features=768, out_features=768, bias=False)\n",
       "        (W_key): Linear(in_features=768, out_features=768, bias=False)\n",
       "        (W_value): Linear(in_features=768, out_features=768, bias=False)\n",
       "        (out_proj): Linear(in_features=768, out_features=768, bias=True)\n",
       "        (dropout): Dropout(p=0.1, inplace=False)\n",
       "      )\n",
       "      (ff): FeedForward(\n",
       "        (layers): Sequential(\n",
       "          (0): Linear(in_features=768, out_features=3072, bias=True)\n",
       "          (1): GELU()\n",
       "          (2): Linear(in_features=3072, out_features=768, bias=True)\n",
       "        )\n",
       "      )\n",
       "      (norm1): LayerNorm()\n",
       "      (norm2): LayerNorm()\n",
       "      (drop_shortcut): Dropout(p=0.1, inplace=False)\n",
       "    )\n",
       "    (6): TransformerBlock(\n",
       "      (att): MultiHeadAttention(\n",
       "        (W_query): Linear(in_features=768, out_features=768, bias=False)\n",
       "        (W_key): Linear(in_features=768, out_features=768, bias=False)\n",
       "        (W_value): Linear(in_features=768, out_features=768, bias=False)\n",
       "        (out_proj): Linear(in_features=768, out_features=768, bias=True)\n",
       "        (dropout): Dropout(p=0.1, inplace=False)\n",
       "      )\n",
       "      (ff): FeedForward(\n",
       "        (layers): Sequential(\n",
       "          (0): Linear(in_features=768, out_features=3072, bias=True)\n",
       "          (1): GELU()\n",
       "          (2): Linear(in_features=3072, out_features=768, bias=True)\n",
       "        )\n",
       "      )\n",
       "      (norm1): LayerNorm()\n",
       "      (norm2): LayerNorm()\n",
       "      (drop_shortcut): Dropout(p=0.1, inplace=False)\n",
       "    )\n",
       "    (7): TransformerBlock(\n",
       "      (att): MultiHeadAttention(\n",
       "        (W_query): Linear(in_features=768, out_features=768, bias=False)\n",
       "        (W_key): Linear(in_features=768, out_features=768, bias=False)\n",
       "        (W_value): Linear(in_features=768, out_features=768, bias=False)\n",
       "        (out_proj): Linear(in_features=768, out_features=768, bias=True)\n",
       "        (dropout): Dropout(p=0.1, inplace=False)\n",
       "      )\n",
       "      (ff): FeedForward(\n",
       "        (layers): Sequential(\n",
       "          (0): Linear(in_features=768, out_features=3072, bias=True)\n",
       "          (1): GELU()\n",
       "          (2): Linear(in_features=3072, out_features=768, bias=True)\n",
       "        )\n",
       "      )\n",
       "      (norm1): LayerNorm()\n",
       "      (norm2): LayerNorm()\n",
       "      (drop_shortcut): Dropout(p=0.1, inplace=False)\n",
       "    )\n",
       "    (8): TransformerBlock(\n",
       "      (att): MultiHeadAttention(\n",
       "        (W_query): Linear(in_features=768, out_features=768, bias=False)\n",
       "        (W_key): Linear(in_features=768, out_features=768, bias=False)\n",
       "        (W_value): Linear(in_features=768, out_features=768, bias=False)\n",
       "        (out_proj): Linear(in_features=768, out_features=768, bias=True)\n",
       "        (dropout): Dropout(p=0.1, inplace=False)\n",
       "      )\n",
       "      (ff): FeedForward(\n",
       "        (layers): Sequential(\n",
       "          (0): Linear(in_features=768, out_features=3072, bias=True)\n",
       "          (1): GELU()\n",
       "          (2): Linear(in_features=3072, out_features=768, bias=True)\n",
       "        )\n",
       "      )\n",
       "      (norm1): LayerNorm()\n",
       "      (norm2): LayerNorm()\n",
       "      (drop_shortcut): Dropout(p=0.1, inplace=False)\n",
       "    )\n",
       "    (9): TransformerBlock(\n",
       "      (att): MultiHeadAttention(\n",
       "        (W_query): Linear(in_features=768, out_features=768, bias=False)\n",
       "        (W_key): Linear(in_features=768, out_features=768, bias=False)\n",
       "        (W_value): Linear(in_features=768, out_features=768, bias=False)\n",
       "        (out_proj): Linear(in_features=768, out_features=768, bias=True)\n",
       "        (dropout): Dropout(p=0.1, inplace=False)\n",
       "      )\n",
       "      (ff): FeedForward(\n",
       "        (layers): Sequential(\n",
       "          (0): Linear(in_features=768, out_features=3072, bias=True)\n",
       "          (1): GELU()\n",
       "          (2): Linear(in_features=3072, out_features=768, bias=True)\n",
       "        )\n",
       "      )\n",
       "      (norm1): LayerNorm()\n",
       "      (norm2): LayerNorm()\n",
       "      (drop_shortcut): Dropout(p=0.1, inplace=False)\n",
       "    )\n",
       "    (10): TransformerBlock(\n",
       "      (att): MultiHeadAttention(\n",
       "        (W_query): Linear(in_features=768, out_features=768, bias=False)\n",
       "        (W_key): Linear(in_features=768, out_features=768, bias=False)\n",
       "        (W_value): Linear(in_features=768, out_features=768, bias=False)\n",
       "        (out_proj): Linear(in_features=768, out_features=768, bias=True)\n",
       "        (dropout): Dropout(p=0.1, inplace=False)\n",
       "      )\n",
       "      (ff): FeedForward(\n",
       "        (layers): Sequential(\n",
       "          (0): Linear(in_features=768, out_features=3072, bias=True)\n",
       "          (1): GELU()\n",
       "          (2): Linear(in_features=3072, out_features=768, bias=True)\n",
       "        )\n",
       "      )\n",
       "      (norm1): LayerNorm()\n",
       "      (norm2): LayerNorm()\n",
       "      (drop_shortcut): Dropout(p=0.1, inplace=False)\n",
       "    )\n",
       "    (11): TransformerBlock(\n",
       "      (att): MultiHeadAttention(\n",
       "        (W_query): Linear(in_features=768, out_features=768, bias=False)\n",
       "        (W_key): Linear(in_features=768, out_features=768, bias=False)\n",
       "        (W_value): Linear(in_features=768, out_features=768, bias=False)\n",
       "        (out_proj): Linear(in_features=768, out_features=768, bias=True)\n",
       "        (dropout): Dropout(p=0.1, inplace=False)\n",
       "      )\n",
       "      (ff): FeedForward(\n",
       "        (layers): Sequential(\n",
       "          (0): Linear(in_features=768, out_features=3072, bias=True)\n",
       "          (1): GELU()\n",
       "          (2): Linear(in_features=3072, out_features=768, bias=True)\n",
       "        )\n",
       "      )\n",
       "      (norm1): LayerNorm()\n",
       "      (norm2): LayerNorm()\n",
       "      (drop_shortcut): Dropout(p=0.1, inplace=False)\n",
       "    )\n",
       "  )\n",
       "  (final_norm): LayerNorm()\n",
       "  (out_head): Linear(in_features=768, out_features=50257, bias=False)\n",
       ")"
      ]
     },
     "execution_count": 1,
     "metadata": {},
     "output_type": "execute_result"
    }
   ],
   "source": [
    "import torch\n",
    "from utils import GPTModel\n",
    "\n",
    "\n",
    "GPT_CONFIG_124M = {\n",
    "    \"vocab_size\": 50257,\n",
    "    \"context_length\": 256,\n",
    "    \"emb_dim\": 768,\n",
    "    \"n_heads\": 12,\n",
    "    \"n_layers\": 12,\n",
    "    \"drop_rate\": 0.1,\n",
    "    \"qkv_bias\": False\n",
    "}\n",
    "\n",
    "torch.manual_seed(123)\n",
    "model = GPTModel(GPT_CONFIG_124M)\n",
    "model.eval()"
   ]
  },
  {
   "cell_type": "markdown",
   "metadata": {},
   "source": [
    "- We will adopt the `generate_text_simple` function from the previous chapter and introduce 2 new functions.\n",
    "- `text_to_token_ids` and `token_ids_to_text`. These functions will help the conversion between text and token representations."
   ]
  },
  {
   "cell_type": "code",
   "execution_count": 2,
   "metadata": {},
   "outputs": [],
   "source": [
    "import tiktoken\n",
    "from utils import generate_text_simple\n",
    "\n",
    "def text_to_token_ids(text, tokenizer):\n",
    "    encoded = tokenizer.encode(text, allowed_special={'<|endoftext|>'})\n",
    "    encoded_tensor = torch.tensor(encoded).unsqueeze(0)\n",
    "    return encoded_tensor\n",
    "\n",
    "def token_ids_to_text(token_ids, tokenizer):\n",
    "    flat = token_ids.squeeze(0)\n",
    "    return tokenizer.decode(flat.tolist())"
   ]
  },
  {
   "cell_type": "code",
   "execution_count": 3,
   "metadata": {},
   "outputs": [
    {
     "name": "stdout",
     "output_type": "stream",
     "text": [
      "Output Text: Every effort moves you rentingetic wasnم refres RexAngel infieldcigans\n"
     ]
    }
   ],
   "source": [
    "# Example\n",
    "start_context = \"Every effort moves you\"\n",
    "tokenizer = tiktoken.get_encoding(\"gpt2\")\n",
    "\n",
    "token_ids = generate_text_simple(\n",
    "    model=model,\n",
    "    idx=text_to_token_ids(start_context, tokenizer),\n",
    "    max_new_tokens=10,\n",
    "    context_size=GPT_CONFIG_124M['context_length']\n",
    ")\n",
    "\n",
    "print(f\"Output Text: {token_ids_to_text(token_ids, tokenizer)}\")"
   ]
  },
  {
   "cell_type": "markdown",
   "metadata": {},
   "source": [
    "- The output is gibberish\n",
    "- We will implement a numerical method to evaluate the generated content. This will allow is to monitor and enhance the model's performance throughout the training process."
   ]
  },
  {
   "cell_type": "markdown",
   "metadata": {},
   "source": [
    "# Calculating the text generation loss"
   ]
  },
  {
   "cell_type": "code",
   "execution_count": 4,
   "metadata": {},
   "outputs": [
    {
     "name": "stdout",
     "output_type": "stream",
     "text": [
      "INPUTS:\n",
      " tensor([[16833,  3626,  6100],\n",
      "        [   40,  1107,   588]])\n",
      "OUTPUTS:\n",
      " tensor([[ 3626,  6100,   345],\n",
      "        [ 1107,   588, 11311]])\n"
     ]
    }
   ],
   "source": [
    "# INPUTS\n",
    "import tiktoken\n",
    "\n",
    "tokenizer = tiktoken.get_encoding(\"gpt2\")\n",
    "inputs = []\n",
    "txt1 = \"every effort moves\"\n",
    "txt2 = \"I really like\"\n",
    "\n",
    "inputs.append(torch.tensor(tokenizer.encode(txt1)))\n",
    "inputs.append(torch.tensor(tokenizer.encode(txt2)))\n",
    "inputs = torch.stack(inputs, dim=0)\n",
    "print(\"INPUTS:\\n\", inputs)\n",
    "\n",
    "\n",
    "#TARGETS\n",
    "targets = []\n",
    "txt1 = \" effort moves you\"\n",
    "txt2 = \" really like chocolate\"\n",
    "\n",
    "targets.append(torch.tensor(tokenizer.encode(txt1)))\n",
    "targets.append(torch.tensor(tokenizer.encode(txt2)))\n",
    "targets = torch.stack(targets, dim=0)\n",
    "print(\"OUTPUTS:\\n\", targets)\n"
   ]
  },
  {
   "cell_type": "code",
   "execution_count": 5,
   "metadata": {},
   "outputs": [
    {
     "name": "stdout",
     "output_type": "stream",
     "text": [
      "torch.Size([2, 3, 50257])\n"
     ]
    }
   ],
   "source": [
    "# Lets get the logits\n",
    "with torch.no_grad():\n",
    "    logits = model(inputs)\n",
    "    probas = torch.softmax(logits, dim=-1)\n",
    "    print(probas.shape)"
   ]
  },
  {
   "cell_type": "code",
   "execution_count": 6,
   "metadata": {},
   "outputs": [
    {
     "name": "stdout",
     "output_type": "stream",
     "text": [
      "TOKEN IDS:\n",
      " tensor([[[16657],\n",
      "         [  339],\n",
      "         [42826]],\n",
      "\n",
      "        [[49906],\n",
      "         [29669],\n",
      "         [41751]]])\n"
     ]
    }
   ],
   "source": [
    "token_ids = torch.argmax(probas, dim=-1, keepdim=True)\n",
    "print(\"TOKEN IDS:\\n\", token_ids)"
   ]
  },
  {
   "cell_type": "code",
   "execution_count": 7,
   "metadata": {},
   "outputs": [
    {
     "name": "stdout",
     "output_type": "stream",
     "text": [
      "Targets batch 1:  effort moves you\n",
      "Outputs batch 1:  Armed heNetflix\n"
     ]
    }
   ],
   "source": [
    "print(f\"Targets batch 1: {token_ids_to_text(targets[0], tokenizer)}\")\n",
    "print(f\"Outputs batch 1:\"\n",
    "      f\" {token_ids_to_text(token_ids[0].flatten(), tokenizer)}\")"
   ]
  },
  {
   "cell_type": "code",
   "execution_count": 8,
   "metadata": {},
   "outputs": [],
   "source": [
    "text_idx = 0\n",
    "target_probas_1 = probas[text_idx, [0, 1, 2]]"
   ]
  },
  {
   "cell_type": "code",
   "execution_count": 9,
   "metadata": {},
   "outputs": [
    {
     "name": "stdout",
     "output_type": "stream",
     "text": [
      "Text 1: tensor([7.2671e-05, 3.1046e-05, 1.1696e-05])\n",
      "Text 2: tensor([1.0426e-05, 5.4604e-05, 4.7716e-06])\n"
     ]
    }
   ],
   "source": [
    "text_idx = 0\n",
    "target_probas_1 = probas[text_idx, [0, 1, 2], targets[text_idx]]\n",
    "print(\"Text 1:\", target_probas_1)\n",
    "text_idx = 1\n",
    "target_probas_2 = probas[text_idx, [0, 1, 2], targets[text_idx]]\n",
    "print(\"Text 2:\", target_probas_2)"
   ]
  },
  {
   "cell_type": "markdown",
   "metadata": {},
   "source": [
    "- Above are the probabilities of the each input token in the above 2 text examples."
   ]
  },
  {
   "cell_type": "markdown",
   "metadata": {},
   "source": [
    "# Back propagation\n",
    "- Used to update the model weights\n",
    "- Compute the negative log likelihood."
   ]
  },
  {
   "cell_type": "code",
   "execution_count": 10,
   "metadata": {},
   "outputs": [
    {
     "name": "stdout",
     "output_type": "stream",
     "text": [
      "tensor([ -9.5296, -10.3800, -11.3563, -11.4712,  -9.8154, -12.2528])\n"
     ]
    }
   ],
   "source": [
    "# Calculate log of each token across the entire batch\n",
    "log_probas = torch.log(torch.cat((target_probas_1, target_probas_2)))\n",
    "print(log_probas)"
   ]
  },
  {
   "cell_type": "code",
   "execution_count": 11,
   "metadata": {},
   "outputs": [
    {
     "name": "stdout",
     "output_type": "stream",
     "text": [
      "tensor(-10.8009)\n"
     ]
    }
   ],
   "source": [
    "# Calculate the average of the log\n",
    "avg_log_probas = torch.mean(log_probas)\n",
    "print(avg_log_probas)"
   ]
  },
  {
   "cell_type": "code",
   "execution_count": 12,
   "metadata": {},
   "outputs": [
    {
     "name": "stdout",
     "output_type": "stream",
     "text": [
      "tensor(10.8009)\n"
     ]
    }
   ],
   "source": [
    "# Multiply by negative 1\n",
    "neg_avg_log_probas = avg_log_probas * -1\n",
    "print(neg_avg_log_probas)"
   ]
  },
  {
   "cell_type": "markdown",
   "metadata": {},
   "source": [
    "- This process performed above is known as cross-entropy loss.\n",
    "- Pytorch has an in-built function to do that."
   ]
  },
  {
   "cell_type": "code",
   "execution_count": 13,
   "metadata": {},
   "outputs": [
    {
     "name": "stdout",
     "output_type": "stream",
     "text": [
      "Logits shape: torch.Size([2, 3, 50257])\n",
      "Targets shape: torch.Size([2, 3])\n"
     ]
    }
   ],
   "source": [
    "print(\"Logits shape:\", logits.shape)\n",
    "print(\"Targets shape:\", targets.shape)"
   ]
  },
  {
   "cell_type": "markdown",
   "metadata": {},
   "source": [
    "- Logits are 3-D (batch_size, number of tokens, vocab-size)\n",
    "- The targets tensor has 2-D (batch_size, number of tokens)\n",
    "- For the cross_entropy we have to flatten by combining them over the batch dimension\n"
   ]
  },
  {
   "cell_type": "code",
   "execution_count": 14,
   "metadata": {},
   "outputs": [
    {
     "name": "stdout",
     "output_type": "stream",
     "text": [
      "Flattened logits: torch.Size([6, 50257])\n",
      "Flattened targets: torch.Size([6])\n"
     ]
    }
   ],
   "source": [
    "logits_flat = logits.flatten(0, 1)\n",
    "targets_flat = targets.flatten()\n",
    "print(\"Flattened logits:\", logits_flat.shape)\n",
    "print(\"Flattened targets:\", targets_flat.shape)"
   ]
  },
  {
   "cell_type": "code",
   "execution_count": 15,
   "metadata": {},
   "outputs": [
    {
     "name": "stdout",
     "output_type": "stream",
     "text": [
      "tensor(10.8009)\n"
     ]
    }
   ],
   "source": [
    "# Using pytorch to calculate the loss\n",
    "loss = torch.nn.functional.cross_entropy(logits_flat, targets_flat)\n",
    "print(loss)"
   ]
  },
  {
   "cell_type": "markdown",
   "metadata": {},
   "source": [
    "# Perplexity\n",
    "- Its a measure that is often used to evaluate the performance of models in tasks like language modeling.\n",
    "- Provides a more interpretable way to understand the uncertainity of model in predicting the next token in a sequence.\n",
    "- Perplexity measures how well the probability distribution predicted by the model matches the actual distribution of words in the dataset. Similar to loss, a lower perplexity indicated that the model predictions are closer to the actual distribution.\n",
    "- It signifies the effective vocabulary size about which the model is uncertain at each step.\n",
    "- This would translate to the model being unsure about which among all the tokens in the vocabulary to generate as the next token."
   ]
  },
  {
   "cell_type": "code",
   "execution_count": 16,
   "metadata": {},
   "outputs": [
    {
     "name": "stdout",
     "output_type": "stream",
     "text": [
      "tensor(49064.1641)\n"
     ]
    }
   ],
   "source": [
    "perplexity = torch.exp(loss)\n",
    "print(perplexity)"
   ]
  },
  {
   "cell_type": "markdown",
   "metadata": {},
   "source": [
    "So in the above excercise we have computed the loss and perplexity to 2 inputs. But we will now extend it to the entire training and validation sets."
   ]
  },
  {
   "cell_type": "markdown",
   "metadata": {},
   "source": [
    "# Calculating the training and validation set losses."
   ]
  },
  {
   "cell_type": "code",
   "execution_count": 17,
   "metadata": {},
   "outputs": [],
   "source": [
    "# Lets first prepare the training and validation datasets.\n",
    "# We will use the same dataset we had used in earlier chapter (\"The Verdict\")"
   ]
  },
  {
   "cell_type": "code",
   "execution_count": 61,
   "metadata": {},
   "outputs": [],
   "source": [
    "# file_path = 'data/chapter2/the-verdict.txt'\n",
    "file_path = 'data/chapter5/Frankinstein.txt'\n",
    "with open(file_path, 'r', encoding='utf-8') as file:\n",
    "    text_data = file.read()    "
   ]
  },
  {
   "cell_type": "code",
   "execution_count": 63,
   "metadata": {},
   "outputs": [
    {
     "name": "stdout",
     "output_type": "stream",
     "text": [
      "Number of Characters: 418918\n",
      "Number of Tokens: 101598\n"
     ]
    }
   ],
   "source": [
    "total_characters = len(text_data)\n",
    "total_tokens = len(tokenizer.encode(text_data))\n",
    "print(f\"Number of Characters: {total_characters}\")\n",
    "print(f\"Number of Tokens: {total_tokens}\")"
   ]
  },
  {
   "cell_type": "markdown",
   "metadata": {},
   "source": [
    "- We will split the data in to training and validation sets.\n",
    "- They will be tokenized\n",
    "- Sample will be generated of `context_length`\n",
    "- Samples will be grouped to form batches (with shuffling)"
   ]
  },
  {
   "cell_type": "code",
   "execution_count": 64,
   "metadata": {},
   "outputs": [],
   "source": [
    "train_ratio = 0.9\n",
    "split_idx = int(train_ratio * len(text_data))\n",
    "train_data = text_data[:split_idx]\n",
    "val_data = text_data[split_idx:]"
   ]
  },
  {
   "cell_type": "code",
   "execution_count": 65,
   "metadata": {},
   "outputs": [],
   "source": [
    "# We can now create the data loader with the datasets we have above."
   ]
  },
  {
   "cell_type": "code",
   "execution_count": 82,
   "metadata": {},
   "outputs": [],
   "source": [
    "from utils import create_dataloader_v1\n",
    "torch.manual_seed(123)\n",
    "\n",
    "train_loader = create_dataloader_v1(\n",
    "    train_data,\n",
    "    batch_size=5,\n",
    "    max_length=GPT_CONFIG_124M['context_length'],\n",
    "    stride=GPT_CONFIG_124M['context_length'],\n",
    "    drop_last=True,\n",
    "    shuffle=True,\n",
    "    num_workers=0\n",
    ")\n",
    "\n",
    "val_loader = create_dataloader_v1(\n",
    "    val_data,\n",
    "    batch_size=5,\n",
    "    max_length=GPT_CONFIG_124M['context_length'],\n",
    "    stride=GPT_CONFIG_124M['context_length'],\n",
    "    drop_last=True,\n",
    "    shuffle=True,\n",
    "    num_workers=0\n",
    ")"
   ]
  },
  {
   "cell_type": "code",
   "execution_count": 83,
   "metadata": {},
   "outputs": [
    {
     "name": "stdout",
     "output_type": "stream",
     "text": [
      "Train loader:\n",
      "torch.Size([5, 256]) torch.Size([5, 256])\n",
      "torch.Size([5, 256]) torch.Size([5, 256])\n",
      "torch.Size([5, 256]) torch.Size([5, 256])\n",
      "torch.Size([5, 256]) torch.Size([5, 256])\n",
      "torch.Size([5, 256]) torch.Size([5, 256])\n",
      "torch.Size([5, 256]) torch.Size([5, 256])\n",
      "torch.Size([5, 256]) torch.Size([5, 256])\n",
      "torch.Size([5, 256]) torch.Size([5, 256])\n",
      "torch.Size([5, 256]) torch.Size([5, 256])\n",
      "torch.Size([5, 256]) torch.Size([5, 256])\n",
      "torch.Size([5, 256]) torch.Size([5, 256])\n",
      "torch.Size([5, 256]) torch.Size([5, 256])\n",
      "torch.Size([5, 256]) torch.Size([5, 256])\n",
      "torch.Size([5, 256]) torch.Size([5, 256])\n",
      "torch.Size([5, 256]) torch.Size([5, 256])\n",
      "torch.Size([5, 256]) torch.Size([5, 256])\n",
      "torch.Size([5, 256]) torch.Size([5, 256])\n",
      "torch.Size([5, 256]) torch.Size([5, 256])\n",
      "torch.Size([5, 256]) torch.Size([5, 256])\n",
      "torch.Size([5, 256]) torch.Size([5, 256])\n",
      "torch.Size([5, 256]) torch.Size([5, 256])\n",
      "torch.Size([5, 256]) torch.Size([5, 256])\n",
      "torch.Size([5, 256]) torch.Size([5, 256])\n",
      "torch.Size([5, 256]) torch.Size([5, 256])\n",
      "torch.Size([5, 256]) torch.Size([5, 256])\n",
      "torch.Size([5, 256]) torch.Size([5, 256])\n",
      "torch.Size([5, 256]) torch.Size([5, 256])\n",
      "torch.Size([5, 256]) torch.Size([5, 256])\n",
      "torch.Size([5, 256]) torch.Size([5, 256])\n",
      "torch.Size([5, 256]) torch.Size([5, 256])\n",
      "torch.Size([5, 256]) torch.Size([5, 256])\n",
      "torch.Size([5, 256]) torch.Size([5, 256])\n",
      "torch.Size([5, 256]) torch.Size([5, 256])\n",
      "torch.Size([5, 256]) torch.Size([5, 256])\n",
      "torch.Size([5, 256]) torch.Size([5, 256])\n",
      "torch.Size([5, 256]) torch.Size([5, 256])\n",
      "torch.Size([5, 256]) torch.Size([5, 256])\n",
      "torch.Size([5, 256]) torch.Size([5, 256])\n",
      "torch.Size([5, 256]) torch.Size([5, 256])\n",
      "torch.Size([5, 256]) torch.Size([5, 256])\n",
      "torch.Size([5, 256]) torch.Size([5, 256])\n",
      "torch.Size([5, 256]) torch.Size([5, 256])\n",
      "torch.Size([5, 256]) torch.Size([5, 256])\n",
      "torch.Size([5, 256]) torch.Size([5, 256])\n",
      "torch.Size([5, 256]) torch.Size([5, 256])\n",
      "torch.Size([5, 256]) torch.Size([5, 256])\n",
      "torch.Size([5, 256]) torch.Size([5, 256])\n",
      "torch.Size([5, 256]) torch.Size([5, 256])\n",
      "torch.Size([5, 256]) torch.Size([5, 256])\n",
      "torch.Size([5, 256]) torch.Size([5, 256])\n",
      "torch.Size([5, 256]) torch.Size([5, 256])\n",
      "torch.Size([5, 256]) torch.Size([5, 256])\n",
      "torch.Size([5, 256]) torch.Size([5, 256])\n",
      "torch.Size([5, 256]) torch.Size([5, 256])\n",
      "torch.Size([5, 256]) torch.Size([5, 256])\n",
      "torch.Size([5, 256]) torch.Size([5, 256])\n",
      "torch.Size([5, 256]) torch.Size([5, 256])\n",
      "torch.Size([5, 256]) torch.Size([5, 256])\n",
      "torch.Size([5, 256]) torch.Size([5, 256])\n",
      "torch.Size([5, 256]) torch.Size([5, 256])\n",
      "torch.Size([5, 256]) torch.Size([5, 256])\n",
      "torch.Size([5, 256]) torch.Size([5, 256])\n",
      "torch.Size([5, 256]) torch.Size([5, 256])\n",
      "torch.Size([5, 256]) torch.Size([5, 256])\n",
      "torch.Size([5, 256]) torch.Size([5, 256])\n",
      "torch.Size([5, 256]) torch.Size([5, 256])\n",
      "torch.Size([5, 256]) torch.Size([5, 256])\n",
      "torch.Size([5, 256]) torch.Size([5, 256])\n",
      "torch.Size([5, 256]) torch.Size([5, 256])\n",
      "torch.Size([5, 256]) torch.Size([5, 256])\n",
      "torch.Size([5, 256]) torch.Size([5, 256])\n"
     ]
    }
   ],
   "source": [
    "print(\"Train loader:\")\n",
    "for x, y in train_loader:\n",
    "    print(x.shape, y.shape)"
   ]
  },
  {
   "cell_type": "code",
   "execution_count": 84,
   "metadata": {},
   "outputs": [
    {
     "name": "stdout",
     "output_type": "stream",
     "text": [
      "\n",
      "Validation loader:\n",
      "torch.Size([5, 256]) torch.Size([5, 256])\n",
      "torch.Size([5, 256]) torch.Size([5, 256])\n",
      "torch.Size([5, 256]) torch.Size([5, 256])\n",
      "torch.Size([5, 256]) torch.Size([5, 256])\n",
      "torch.Size([5, 256]) torch.Size([5, 256])\n",
      "torch.Size([5, 256]) torch.Size([5, 256])\n",
      "torch.Size([5, 256]) torch.Size([5, 256])\n"
     ]
    }
   ],
   "source": [
    "print(\"\\nValidation loader:\")\n",
    "for x, y in val_loader:\n",
    "    print(x.shape, y.shape)"
   ]
  },
  {
   "cell_type": "code",
   "execution_count": 85,
   "metadata": {},
   "outputs": [],
   "source": [
    "def calc_loss_batch(input_batch, target_batch, model, device): # This is only for a batch\n",
    "    input_batch = input_batch.to(device)\n",
    "    target_batch = target_batch.to(device)\n",
    "    logits = model(input_batch)\n",
    "    loss = torch.nn.functional.cross_entropy(\n",
    "        logits.flatten(0, 1), target_batch.flatten()\n",
    "    )\n",
    "    return loss"
   ]
  },
  {
   "cell_type": "code",
   "execution_count": 86,
   "metadata": {},
   "outputs": [],
   "source": [
    "# to compute over all the batches\n",
    "def calc_loss_loader(data_loader, model, device, num_batches=None):\n",
    "    total_loss = 0.0\n",
    "    if len(data_loader) == 0:\n",
    "        return float(\"nan\")\n",
    "    elif num_batches is None:\n",
    "        num_batches = len(data_loader)\n",
    "    else:\n",
    "        num_batches = min(num_batches, len(data_loader))\n",
    "    \n",
    "    for i, (input_batch, target_batch) in enumerate(data_loader):\n",
    "        if i < num_batches:\n",
    "            loss = calc_loss_batch(input_batch, target_batch, model, device)\n",
    "            total_loss += loss.item()\n",
    "        else:\n",
    "            break\n",
    "    return total_loss / num_batches"
   ]
  },
  {
   "cell_type": "code",
   "execution_count": 87,
   "metadata": {},
   "outputs": [
    {
     "name": "stdout",
     "output_type": "stream",
     "text": [
      "Training loss: 0.6965724674748702\n",
      "Validation loss: 7.234536852155413\n"
     ]
    }
   ],
   "source": [
    "# Example\n",
    "device = \"cpu\"\n",
    "model.to(device)\n",
    "with torch.no_grad():\n",
    "    train_loss = calc_loss_loader(train_loader, model, device)\n",
    "    val_loss = calc_loss_loader(val_loader, model, device)\n",
    "\n",
    "print(f\"Training loss: {train_loss}\")\n",
    "print(f\"Validation loss: {val_loss}\")"
   ]
  },
  {
   "cell_type": "code",
   "execution_count": 88,
   "metadata": {},
   "outputs": [],
   "source": [
    "# Training"
   ]
  },
  {
   "cell_type": "code",
   "execution_count": 72,
   "metadata": {},
   "outputs": [],
   "source": [
    "def train_model_simple(model, train_loader, val_loader, optimizer, device, num_epochs, eval_freq, eval_iter, start_context, tokenizer):\n",
    "    # Initialize list to tack losses and tokens seens\n",
    "    train_losses, val_losses, track_tokens_seen = [], [], []\n",
    "    tokens_seen , global_step = 0, -1\n",
    "\n",
    "    for epoch in range(num_epochs):# start main loop\n",
    "        model.train() # ensures/set the model into train mode since there are eval step that happen sometimes\n",
    "        for input_batch, target_batch in train_loader:\n",
    "            optimizer.zero_grad()\n",
    "            loss = calc_loss_batch(input_batch, target_batch, model, device)\n",
    "            loss.backward()\n",
    "            optimizer.step()\n",
    "            tokens_seen += input_batch.numel()\n",
    "            global_step += 1\n",
    "\n",
    "            if global_step % eval_freq == 0:\n",
    "                train_loss, val_loss = evaluate_model(model , train_loader, val_loader, device, eval_iter)\n",
    "                train_losses.append(train_loss)\n",
    "                val_losses.append(val_loss)\n",
    "                track_tokens_seen.append(tokens_seen)\n",
    "                print(f\"Ep {epoch+1} (Step {global_step:06d}): Train Loss {train_loss:.3f} Val loss {val_loss:0.3f}\")\n",
    "\n",
    "        generate_and_print_sample(model, tokenizer, device, start_context)\n",
    "    return train_losses, val_losses, track_tokens_seen\n",
    "\n"
   ]
  },
  {
   "cell_type": "markdown",
   "metadata": {},
   "source": [
    "- `evaluate_model` caluclates the losses over the training and validation set while ensuring that the model is in evaluation mode.\n",
    "- This means that gradient checking and dropout are disables."
   ]
  },
  {
   "cell_type": "code",
   "execution_count": 73,
   "metadata": {},
   "outputs": [],
   "source": [
    "def evaluate_model(model, train_loader, val_loader, device, eval_iter):\n",
    "    model.eval() # set model in eval mode to turn off dropout.\n",
    "    with torch.no_grad():\n",
    "        train_loss = calc_loss_loader(train_loader, model, device, num_batches=eval_iter)\n",
    "        val_loss = calc_loss_loader(val_loader, model, device, num_batches=eval_iter)\n",
    "    model.train() # set the model back to train mode\n",
    "    return train_loss, val_loss"
   ]
  },
  {
   "cell_type": "code",
   "execution_count": 74,
   "metadata": {},
   "outputs": [],
   "source": [
    "def generate_and_print_sample(model, tokenizer, device, start_context):\n",
    "    model.eval() # set model in eval mode\n",
    "    context_size = model.pos_emb.weight.shape[0]\n",
    "    encoded = text_to_token_ids(start_context, tokenizer).to(device)\n",
    "    with torch.no_grad():\n",
    "        token_ids = generate_text_simple(model=model, idx=encoded, max_new_tokens=50, context_size=context_size)\n",
    "\n",
    "    decoded_text = token_ids_to_text(token_ids, tokenizer)\n",
    "    print(decoded_text.replace(\"\\n\", \" \"))\n",
    "    model.train() # set model back in train mode\n"
   ]
  },
  {
   "cell_type": "markdown",
   "metadata": {},
   "source": [
    "### Note: We will use `AdamW` as the optimizer"
   ]
  },
  {
   "cell_type": "markdown",
   "metadata": {},
   "source": [
    "# First TRAIN RUN"
   ]
  },
  {
   "cell_type": "code",
   "execution_count": 78,
   "metadata": {},
   "outputs": [],
   "source": [
    "torch.manual_seed(123)\n",
    "device='mps'\n",
    "model = GPTModel(GPT_CONFIG_124M)\n",
    "model.to(device)\n",
    "optimizer = torch.optim.AdamW(model.parameters(), lr=0.0004, weight_decay=0.1)\n",
    "num_epochs = 10\n",
    "start_context = \"Every effort moves you\"\n"
   ]
  },
  {
   "cell_type": "code",
   "execution_count": 79,
   "metadata": {},
   "outputs": [
    {
     "name": "stdout",
     "output_type": "stream",
     "text": [
      "Ep 1 (Step 000000): Train Loss 9.726 Val loss 9.795\n",
      "Ep 1 (Step 000005): Train Loss 8.209 Val loss 8.252\n",
      "Ep 1 (Step 000010): Train Loss 7.420 Val loss 7.468\n",
      "Ep 1 (Step 000015): Train Loss 7.126 Val loss 7.237\n",
      "Ep 1 (Step 000020): Train Loss 6.784 Val loss 7.099\n",
      "Ep 1 (Step 000025): Train Loss 7.056 Val loss 7.046\n",
      "Ep 1 (Step 000030): Train Loss 6.792 Val loss 6.985\n",
      "Ep 1 (Step 000035): Train Loss 6.834 Val loss 6.961\n",
      "Ep 1 (Step 000040): Train Loss 6.832 Val loss 6.954\n",
      "Ep 1 (Step 000045): Train Loss 6.737 Val loss 6.813\n",
      "Ep 1 (Step 000050): Train Loss 6.370 Val loss 6.701\n",
      "Ep 1 (Step 000055): Train Loss 6.608 Val loss 6.714\n",
      "Ep 1 (Step 000060): Train Loss 6.588 Val loss 6.555\n",
      "Ep 1 (Step 000065): Train Loss 6.426 Val loss 6.639\n",
      "Ep 1 (Step 000070): Train Loss 6.352 Val loss 6.458\n",
      "Ep 1 (Step 000075): Train Loss 6.257 Val loss 6.530\n",
      "Ep 1 (Step 000080): Train Loss 6.221 Val loss 6.378\n",
      "Ep 1 (Step 000085): Train Loss 6.141 Val loss 6.300\n",
      "Ep 1 (Step 000090): Train Loss 6.313 Val loss 6.435\n",
      "Ep 1 (Step 000095): Train Loss 6.340 Val loss 6.314\n",
      "Ep 1 (Step 000100): Train Loss 5.914 Val loss 6.462\n",
      "Ep 1 (Step 000105): Train Loss 6.170 Val loss 6.312\n",
      "Ep 1 (Step 000110): Train Loss 6.221 Val loss 6.379\n",
      "Ep 1 (Step 000115): Train Loss 5.914 Val loss 6.397\n",
      "Ep 1 (Step 000120): Train Loss 5.938 Val loss 6.167\n",
      "Ep 1 (Step 000125): Train Loss 5.954 Val loss 6.297\n",
      "Ep 1 (Step 000130): Train Loss 5.928 Val loss 6.250\n",
      "Ep 1 (Step 000135): Train Loss 5.727 Val loss 6.124\n",
      "Ep 1 (Step 000140): Train Loss 5.868 Val loss 6.058\n",
      "Ep 1 (Step 000145): Train Loss 5.898 Val loss 6.241\n",
      "Ep 1 (Step 000150): Train Loss 5.881 Val loss 6.215\n",
      "Ep 1 (Step 000155): Train Loss 5.887 Val loss 6.204\n",
      "Ep 1 (Step 000160): Train Loss 5.922 Val loss 6.066\n",
      "Ep 1 (Step 000165): Train Loss 5.696 Val loss 6.103\n",
      "Ep 1 (Step 000170): Train Loss 5.743 Val loss 6.135\n",
      "Ep 1 (Step 000175): Train Loss 5.589 Val loss 6.121\n",
      "Every effort moves you, and the the the the the the the the the the the the the the the the the the the the the the the the\n",
      "Ep 2 (Step 000180): Train Loss 5.576 Val loss 6.072\n",
      "Ep 2 (Step 000185): Train Loss 5.757 Val loss 6.020\n",
      "Ep 2 (Step 000190): Train Loss 5.781 Val loss 6.007\n",
      "Ep 2 (Step 000195): Train Loss 5.735 Val loss 6.156\n",
      "Ep 2 (Step 000200): Train Loss 5.491 Val loss 5.970\n",
      "Ep 2 (Step 000205): Train Loss 5.608 Val loss 6.167\n",
      "Ep 2 (Step 000210): Train Loss 5.776 Val loss 6.197\n",
      "Ep 2 (Step 000215): Train Loss 5.866 Val loss 6.013\n",
      "Ep 2 (Step 000220): Train Loss 5.667 Val loss 6.100\n",
      "Ep 2 (Step 000225): Train Loss 5.584 Val loss 6.077\n",
      "Ep 2 (Step 000230): Train Loss 5.760 Val loss 6.107\n",
      "Ep 2 (Step 000235): Train Loss 5.577 Val loss 6.107\n",
      "Ep 2 (Step 000240): Train Loss 5.523 Val loss 6.059\n",
      "Ep 2 (Step 000245): Train Loss 5.614 Val loss 6.028\n",
      "Ep 2 (Step 000250): Train Loss 5.622 Val loss 5.970\n",
      "Ep 2 (Step 000255): Train Loss 5.405 Val loss 6.064\n",
      "Ep 2 (Step 000260): Train Loss 5.610 Val loss 5.956\n",
      "Ep 2 (Step 000265): Train Loss 5.460 Val loss 6.091\n",
      "Ep 2 (Step 000270): Train Loss 5.512 Val loss 6.104\n",
      "Ep 2 (Step 000275): Train Loss 5.432 Val loss 6.076\n",
      "Ep 2 (Step 000280): Train Loss 5.401 Val loss 5.955\n",
      "Ep 2 (Step 000285): Train Loss 5.528 Val loss 6.001\n",
      "Ep 2 (Step 000290): Train Loss 5.493 Val loss 6.034\n",
      "Ep 2 (Step 000295): Train Loss 5.285 Val loss 5.904\n",
      "Ep 2 (Step 000300): Train Loss 5.625 Val loss 5.878\n",
      "Ep 2 (Step 000305): Train Loss 5.323 Val loss 6.128\n",
      "Ep 2 (Step 000310): Train Loss 5.360 Val loss 5.901\n",
      "Ep 2 (Step 000315): Train Loss 5.516 Val loss 6.043\n",
      "Ep 2 (Step 000320): Train Loss 5.545 Val loss 5.964\n",
      "Ep 2 (Step 000325): Train Loss 5.400 Val loss 6.005\n",
      "Ep 2 (Step 000330): Train Loss 5.400 Val loss 5.990\n",
      "Ep 2 (Step 000335): Train Loss 5.307 Val loss 5.986\n",
      "Ep 2 (Step 000340): Train Loss 5.472 Val loss 5.929\n",
      "Ep 2 (Step 000345): Train Loss 5.365 Val loss 6.024\n",
      "Ep 2 (Step 000350): Train Loss 5.345 Val loss 5.880\n",
      "Ep 2 (Step 000355): Train Loss 5.104 Val loss 5.907\n",
      "Every effort moves you       ““““““““” ” said I had “““” said I had “““\n",
      "Ep 3 (Step 000360): Train Loss 5.296 Val loss 5.971\n",
      "Ep 3 (Step 000365): Train Loss 5.224 Val loss 5.973\n",
      "Ep 3 (Step 000370): Train Loss 5.180 Val loss 5.902\n",
      "Ep 3 (Step 000375): Train Loss 5.327 Val loss 6.007\n",
      "Ep 3 (Step 000380): Train Loss 5.199 Val loss 5.854\n",
      "Ep 3 (Step 000385): Train Loss 5.352 Val loss 5.839\n",
      "Ep 3 (Step 000390): Train Loss 5.106 Val loss 5.973\n",
      "Ep 3 (Step 000395): Train Loss 5.164 Val loss 5.906\n",
      "Ep 3 (Step 000400): Train Loss 5.183 Val loss 6.013\n",
      "Ep 3 (Step 000405): Train Loss 5.210 Val loss 5.973\n",
      "Ep 3 (Step 000410): Train Loss 5.195 Val loss 5.905\n",
      "Ep 3 (Step 000415): Train Loss 5.103 Val loss 5.852\n",
      "Ep 3 (Step 000420): Train Loss 5.328 Val loss 5.904\n",
      "Ep 3 (Step 000425): Train Loss 4.950 Val loss 5.905\n",
      "Ep 3 (Step 000430): Train Loss 5.212 Val loss 5.917\n",
      "Ep 3 (Step 000435): Train Loss 4.862 Val loss 5.833\n",
      "Ep 3 (Step 000440): Train Loss 4.954 Val loss 5.898\n",
      "Ep 3 (Step 000445): Train Loss 5.092 Val loss 5.866\n",
      "Ep 3 (Step 000450): Train Loss 4.960 Val loss 5.759\n",
      "Ep 3 (Step 000455): Train Loss 4.906 Val loss 5.892\n",
      "Ep 3 (Step 000460): Train Loss 5.166 Val loss 5.877\n",
      "Ep 3 (Step 000465): Train Loss 5.036 Val loss 5.998\n",
      "Ep 3 (Step 000470): Train Loss 5.073 Val loss 5.825\n",
      "Ep 3 (Step 000475): Train Loss 4.975 Val loss 5.898\n",
      "Ep 3 (Step 000480): Train Loss 4.881 Val loss 5.840\n",
      "Ep 3 (Step 000485): Train Loss 4.982 Val loss 5.921\n",
      "Ep 3 (Step 000490): Train Loss 4.919 Val loss 5.792\n",
      "Ep 3 (Step 000495): Train Loss 4.992 Val loss 5.843\n",
      "Ep 3 (Step 000500): Train Loss 5.020 Val loss 5.801\n",
      "Ep 3 (Step 000505): Train Loss 5.070 Val loss 5.834\n",
      "Ep 3 (Step 000510): Train Loss 4.861 Val loss 5.823\n",
      "Ep 3 (Step 000515): Train Loss 4.941 Val loss 5.782\n",
      "Ep 3 (Step 000520): Train Loss 4.850 Val loss 5.867\n",
      "Ep 3 (Step 000525): Train Loss 4.839 Val loss 5.786\n",
      "Ep 3 (Step 000530): Train Loss 4.852 Val loss 5.978\n",
      "Every effort moves you are not                     and the same the   and the same, and the              \n",
      "Ep 4 (Step 000535): Train Loss 4.904 Val loss 5.826\n",
      "Ep 4 (Step 000540): Train Loss 4.773 Val loss 5.820\n",
      "Ep 4 (Step 000545): Train Loss 4.855 Val loss 5.872\n",
      "Ep 4 (Step 000550): Train Loss 4.784 Val loss 5.876\n",
      "Ep 4 (Step 000555): Train Loss 4.939 Val loss 5.930\n",
      "Ep 4 (Step 000560): Train Loss 4.639 Val loss 5.915\n",
      "Ep 4 (Step 000565): Train Loss 4.788 Val loss 6.006\n",
      "Ep 4 (Step 000570): Train Loss 4.694 Val loss 5.918\n",
      "Ep 4 (Step 000575): Train Loss 4.698 Val loss 5.827\n",
      "Ep 4 (Step 000580): Train Loss 4.635 Val loss 5.993\n",
      "Ep 4 (Step 000585): Train Loss 4.585 Val loss 5.896\n",
      "Ep 4 (Step 000590): Train Loss 4.828 Val loss 5.775\n",
      "Ep 4 (Step 000595): Train Loss 4.770 Val loss 5.839\n",
      "Ep 4 (Step 000600): Train Loss 4.756 Val loss 5.885\n",
      "Ep 4 (Step 000605): Train Loss 4.568 Val loss 5.800\n",
      "Ep 4 (Step 000610): Train Loss 4.652 Val loss 5.991\n",
      "Ep 4 (Step 000615): Train Loss 4.793 Val loss 5.853\n",
      "Ep 4 (Step 000620): Train Loss 4.705 Val loss 5.861\n",
      "Ep 4 (Step 000625): Train Loss 4.295 Val loss 5.949\n",
      "Ep 4 (Step 000630): Train Loss 4.781 Val loss 5.832\n",
      "Ep 4 (Step 000635): Train Loss 4.558 Val loss 6.008\n",
      "Ep 4 (Step 000640): Train Loss 4.404 Val loss 5.833\n",
      "Ep 4 (Step 000645): Train Loss 4.478 Val loss 5.886\n",
      "Ep 4 (Step 000650): Train Loss 4.679 Val loss 5.868\n",
      "Ep 4 (Step 000655): Train Loss 4.595 Val loss 5.859\n",
      "Ep 4 (Step 000660): Train Loss 4.659 Val loss 5.901\n",
      "Ep 4 (Step 000665): Train Loss 4.350 Val loss 5.831\n",
      "Ep 4 (Step 000670): Train Loss 4.294 Val loss 5.824\n",
      "Ep 4 (Step 000675): Train Loss 4.531 Val loss 5.794\n",
      "Ep 4 (Step 000680): Train Loss 4.463 Val loss 5.785\n",
      "Ep 4 (Step 000685): Train Loss 4.321 Val loss 5.740\n",
      "Ep 4 (Step 000690): Train Loss 4.442 Val loss 5.685\n",
      "Ep 4 (Step 000695): Train Loss 4.651 Val loss 5.788\n",
      "Ep 4 (Step 000700): Train Loss 4.505 Val loss 5.812\n",
      "Ep 4 (Step 000705): Train Loss 4.204 Val loss 5.760\n",
      "Ep 4 (Step 000710): Train Loss 4.526 Val loss 5.872\n",
      "Every effort moves you   and the and to the and the and the and the and the and the and the and the and the and the and the and the and the and the and\n",
      "Ep 5 (Step 000715): Train Loss 4.433 Val loss 5.848\n",
      "Ep 5 (Step 000720): Train Loss 4.259 Val loss 5.845\n",
      "Ep 5 (Step 000725): Train Loss 4.387 Val loss 5.784\n",
      "Ep 5 (Step 000730): Train Loss 4.278 Val loss 5.724\n",
      "Ep 5 (Step 000735): Train Loss 4.122 Val loss 5.829\n",
      "Ep 5 (Step 000740): Train Loss 4.123 Val loss 5.863\n",
      "Ep 5 (Step 000745): Train Loss 4.101 Val loss 5.775\n",
      "Ep 5 (Step 000750): Train Loss 4.145 Val loss 5.962\n",
      "Ep 5 (Step 000755): Train Loss 4.056 Val loss 5.919\n",
      "Ep 5 (Step 000760): Train Loss 3.893 Val loss 5.937\n",
      "Ep 5 (Step 000765): Train Loss 3.889 Val loss 5.979\n",
      "Ep 5 (Step 000770): Train Loss 4.336 Val loss 5.864\n",
      "Ep 5 (Step 000775): Train Loss 3.962 Val loss 5.943\n",
      "Ep 5 (Step 000780): Train Loss 3.948 Val loss 5.987\n",
      "Ep 5 (Step 000785): Train Loss 4.059 Val loss 6.014\n",
      "Ep 5 (Step 000790): Train Loss 4.133 Val loss 5.915\n",
      "Ep 5 (Step 000795): Train Loss 4.137 Val loss 5.916\n",
      "Ep 5 (Step 000800): Train Loss 3.931 Val loss 5.989\n",
      "Ep 5 (Step 000805): Train Loss 3.856 Val loss 5.861\n",
      "Ep 5 (Step 000810): Train Loss 4.273 Val loss 5.940\n",
      "Ep 5 (Step 000815): Train Loss 4.276 Val loss 5.878\n",
      "Ep 5 (Step 000820): Train Loss 3.835 Val loss 5.991\n",
      "Ep 5 (Step 000825): Train Loss 3.827 Val loss 5.852\n",
      "Ep 5 (Step 000830): Train Loss 4.012 Val loss 5.865\n",
      "Ep 5 (Step 000835): Train Loss 3.938 Val loss 5.959\n",
      "Ep 5 (Step 000840): Train Loss 4.032 Val loss 5.974\n",
      "Ep 5 (Step 000845): Train Loss 3.979 Val loss 6.004\n",
      "Ep 5 (Step 000850): Train Loss 3.848 Val loss 5.865\n",
      "Ep 5 (Step 000855): Train Loss 3.687 Val loss 5.991\n",
      "Ep 5 (Step 000860): Train Loss 3.924 Val loss 5.902\n",
      "Ep 5 (Step 000865): Train Loss 3.697 Val loss 5.904\n",
      "Ep 5 (Step 000870): Train Loss 3.769 Val loss 6.025\n",
      "Ep 5 (Step 000875): Train Loss 3.742 Val loss 5.938\n",
      "Ep 5 (Step 000880): Train Loss 3.881 Val loss 5.958\n",
      "Ep 5 (Step 000885): Train Loss 3.883 Val loss 5.845\n",
      "Every effort moves you; I  and that I had not beheld the and misery of the ’     ““““““““““““�\n",
      "Ep 6 (Step 000890): Train Loss 3.715 Val loss 5.913\n",
      "Ep 6 (Step 000895): Train Loss 3.685 Val loss 5.885\n",
      "Ep 6 (Step 000900): Train Loss 3.710 Val loss 6.059\n",
      "Ep 6 (Step 000905): Train Loss 3.460 Val loss 6.033\n",
      "Ep 6 (Step 000910): Train Loss 3.662 Val loss 6.037\n",
      "Ep 6 (Step 000915): Train Loss 3.625 Val loss 6.025\n",
      "Ep 6 (Step 000920): Train Loss 3.613 Val loss 6.036\n",
      "Ep 6 (Step 000925): Train Loss 3.533 Val loss 6.049\n",
      "Ep 6 (Step 000930): Train Loss 3.399 Val loss 6.131\n",
      "Ep 6 (Step 000935): Train Loss 3.364 Val loss 5.996\n",
      "Ep 6 (Step 000940): Train Loss 3.749 Val loss 6.079\n",
      "Ep 6 (Step 000945): Train Loss 3.555 Val loss 6.056\n",
      "Ep 6 (Step 000950): Train Loss 3.580 Val loss 6.119\n",
      "Ep 6 (Step 000955): Train Loss 3.725 Val loss 6.215\n",
      "Ep 6 (Step 000960): Train Loss 3.450 Val loss 6.214\n",
      "Ep 6 (Step 000965): Train Loss 3.437 Val loss 6.148\n",
      "Ep 6 (Step 000970): Train Loss 3.790 Val loss 6.101\n",
      "Ep 6 (Step 000975): Train Loss 3.437 Val loss 6.112\n",
      "Ep 6 (Step 000980): Train Loss 3.309 Val loss 6.016\n",
      "Ep 6 (Step 000985): Train Loss 3.529 Val loss 6.203\n",
      "Ep 6 (Step 000990): Train Loss 3.378 Val loss 6.138\n",
      "Ep 6 (Step 000995): Train Loss 3.555 Val loss 6.157\n",
      "Ep 6 (Step 001000): Train Loss 2.802 Val loss 5.998\n",
      "Ep 6 (Step 001005): Train Loss 3.088 Val loss 6.281\n",
      "Ep 6 (Step 001010): Train Loss 3.090 Val loss 5.984\n",
      "Ep 6 (Step 001015): Train Loss 3.107 Val loss 6.188\n",
      "Ep 6 (Step 001020): Train Loss 3.294 Val loss 5.985\n",
      "Ep 6 (Step 001025): Train Loss 3.271 Val loss 6.048\n",
      "Ep 6 (Step 001030): Train Loss 3.148 Val loss 6.214\n",
      "Ep 6 (Step 001035): Train Loss 3.023 Val loss 6.222\n",
      "Ep 6 (Step 001040): Train Loss 3.108 Val loss 5.997\n",
      "Ep 6 (Step 001045): Train Loss 3.184 Val loss 6.040\n",
      "Ep 6 (Step 001050): Train Loss 2.918 Val loss 6.058\n",
      "Ep 6 (Step 001055): Train Loss 3.193 Val loss 6.030\n",
      "Ep 6 (Step 001060): Train Loss 2.897 Val loss 6.061\n",
      "Ep 6 (Step 001065): Train Loss 2.911 Val loss 6.079\n",
      "Every effort moves you, and if I, that is true, I could have so annoying to me. I  “I am, ” said this, I have no   “I swear “I am you,\n",
      "Ep 7 (Step 001070): Train Loss 3.012 Val loss 6.085\n",
      "Ep 7 (Step 001075): Train Loss 2.999 Val loss 6.060\n",
      "Ep 7 (Step 001080): Train Loss 2.926 Val loss 6.110\n",
      "Ep 7 (Step 001085): Train Loss 2.851 Val loss 6.095\n",
      "Ep 7 (Step 001090): Train Loss 2.815 Val loss 5.998\n",
      "Ep 7 (Step 001095): Train Loss 2.969 Val loss 6.221\n",
      "Ep 7 (Step 001100): Train Loss 2.584 Val loss 6.283\n",
      "Ep 7 (Step 001105): Train Loss 2.437 Val loss 6.184\n",
      "Ep 7 (Step 001110): Train Loss 2.781 Val loss 6.341\n",
      "Ep 7 (Step 001115): Train Loss 2.693 Val loss 6.334\n",
      "Ep 7 (Step 001120): Train Loss 2.729 Val loss 6.159\n",
      "Ep 7 (Step 001125): Train Loss 2.854 Val loss 6.369\n",
      "Ep 7 (Step 001130): Train Loss 2.673 Val loss 6.337\n",
      "Ep 7 (Step 001135): Train Loss 2.371 Val loss 6.511\n",
      "Ep 7 (Step 001140): Train Loss 2.719 Val loss 6.256\n",
      "Ep 7 (Step 001145): Train Loss 2.630 Val loss 6.272\n",
      "Ep 7 (Step 001150): Train Loss 2.566 Val loss 6.404\n",
      "Ep 7 (Step 001155): Train Loss 2.763 Val loss 6.324\n",
      "Ep 7 (Step 001160): Train Loss 2.381 Val loss 6.266\n",
      "Ep 7 (Step 001165): Train Loss 2.703 Val loss 6.394\n",
      "Ep 7 (Step 001170): Train Loss 2.751 Val loss 6.317\n",
      "Ep 7 (Step 001175): Train Loss 2.193 Val loss 6.207\n",
      "Ep 7 (Step 001180): Train Loss 2.474 Val loss 6.361\n",
      "Ep 7 (Step 001185): Train Loss 2.340 Val loss 6.370\n",
      "Ep 7 (Step 001190): Train Loss 2.180 Val loss 6.344\n",
      "Ep 7 (Step 001195): Train Loss 2.638 Val loss 6.279\n",
      "Ep 7 (Step 001200): Train Loss 2.649 Val loss 6.204\n",
      "Ep 7 (Step 001205): Train Loss 2.606 Val loss 6.482\n",
      "Ep 7 (Step 001210): Train Loss 2.330 Val loss 6.197\n",
      "Ep 7 (Step 001215): Train Loss 2.331 Val loss 6.210\n",
      "Ep 7 (Step 001220): Train Loss 2.514 Val loss 6.349\n",
      "Ep 7 (Step 001225): Train Loss 2.436 Val loss 6.255\n",
      "Ep 7 (Step 001230): Train Loss 2.362 Val loss 6.360\n",
      "Ep 7 (Step 001235): Train Loss 2.423 Val loss 6.437\n",
      "Ep 7 (Step 001240): Train Loss 2.266 Val loss 6.346\n",
      "Ep 7 (Step 001245): Train Loss 2.343 Val loss 6.305\n",
      "Every effort moves you,  to be, and the world. I have       “The Turk of the “‘Do not to the morning when I        ‘Do not know\n",
      "Ep 8 (Step 001250): Train Loss 2.331 Val loss 6.282\n",
      "Ep 8 (Step 001255): Train Loss 2.115 Val loss 6.515\n",
      "Ep 8 (Step 001260): Train Loss 2.279 Val loss 6.339\n",
      "Ep 8 (Step 001265): Train Loss 1.996 Val loss 6.535\n",
      "Ep 8 (Step 001270): Train Loss 1.790 Val loss 6.545\n",
      "Ep 8 (Step 001275): Train Loss 1.693 Val loss 6.487\n",
      "Ep 8 (Step 001280): Train Loss 2.128 Val loss 6.544\n",
      "Ep 8 (Step 001285): Train Loss 2.181 Val loss 6.396\n",
      "Ep 8 (Step 001290): Train Loss 2.038 Val loss 6.550\n",
      "Ep 8 (Step 001295): Train Loss 1.897 Val loss 6.448\n",
      "Ep 8 (Step 001300): Train Loss 1.980 Val loss 6.581\n",
      "Ep 8 (Step 001305): Train Loss 2.098 Val loss 6.551\n",
      "Ep 8 (Step 001310): Train Loss 1.961 Val loss 6.520\n",
      "Ep 8 (Step 001315): Train Loss 2.018 Val loss 6.641\n",
      "Ep 8 (Step 001320): Train Loss 1.638 Val loss 6.720\n",
      "Ep 8 (Step 001325): Train Loss 2.021 Val loss 6.467\n",
      "Ep 8 (Step 001330): Train Loss 1.922 Val loss 6.720\n",
      "Ep 8 (Step 001335): Train Loss 2.101 Val loss 6.644\n",
      "Ep 8 (Step 001340): Train Loss 2.014 Val loss 6.589\n",
      "Ep 8 (Step 001345): Train Loss 1.726 Val loss 6.613\n",
      "Ep 8 (Step 001350): Train Loss 1.640 Val loss 6.571\n",
      "Ep 8 (Step 001355): Train Loss 1.576 Val loss 6.582\n",
      "Ep 8 (Step 001360): Train Loss 1.730 Val loss 6.540\n",
      "Ep 8 (Step 001365): Train Loss 1.750 Val loss 6.698\n",
      "Ep 8 (Step 001370): Train Loss 1.782 Val loss 6.634\n",
      "Ep 8 (Step 001375): Train Loss 1.824 Val loss 6.636\n",
      "Ep 8 (Step 001380): Train Loss 1.785 Val loss 6.484\n",
      "Ep 8 (Step 001385): Train Loss 1.448 Val loss 6.633\n",
      "Ep 8 (Step 001390): Train Loss 1.413 Val loss 6.724\n",
      "Ep 8 (Step 001395): Train Loss 1.441 Val loss 6.760\n",
      "Ep 8 (Step 001400): Train Loss 1.829 Val loss 6.619\n",
      "Ep 8 (Step 001405): Train Loss 1.615 Val loss 6.762\n",
      "Ep 8 (Step 001410): Train Loss 1.612 Val loss 6.530\n",
      "Ep 8 (Step 001415): Train Loss 1.606 Val loss 6.614\n",
      "Ep 8 (Step 001420): Train Loss 1.591 Val loss 6.702\n",
      "Every effort moves you, and you in case of the vulgar. I thought that I “I do not befall a sensitive being; I am your countenance which I do you to you. I ” “You are sorrowful,\n",
      "Ep 9 (Step 001425): Train Loss 1.406 Val loss 6.645\n",
      "Ep 9 (Step 001430): Train Loss 1.558 Val loss 6.747\n",
      "Ep 9 (Step 001435): Train Loss 1.531 Val loss 6.685\n",
      "Ep 9 (Step 001440): Train Loss 1.364 Val loss 6.973\n",
      "Ep 9 (Step 001445): Train Loss 1.301 Val loss 6.748\n",
      "Ep 9 (Step 001450): Train Loss 1.455 Val loss 7.071\n",
      "Ep 9 (Step 001455): Train Loss 1.109 Val loss 6.833\n",
      "Ep 9 (Step 001460): Train Loss 1.366 Val loss 6.868\n",
      "Ep 9 (Step 001465): Train Loss 1.218 Val loss 6.753\n",
      "Ep 9 (Step 001470): Train Loss 1.305 Val loss 6.900\n",
      "Ep 9 (Step 001475): Train Loss 0.971 Val loss 6.829\n",
      "Ep 9 (Step 001480): Train Loss 1.314 Val loss 6.863\n",
      "Ep 9 (Step 001485): Train Loss 1.058 Val loss 6.924\n",
      "Ep 9 (Step 001490): Train Loss 1.284 Val loss 6.890\n",
      "Ep 9 (Step 001495): Train Loss 1.001 Val loss 6.856\n",
      "Ep 9 (Step 001500): Train Loss 1.013 Val loss 6.942\n",
      "Ep 9 (Step 001505): Train Loss 1.145 Val loss 6.955\n",
      "Ep 9 (Step 001510): Train Loss 1.274 Val loss 6.982\n",
      "Ep 9 (Step 001515): Train Loss 1.198 Val loss 6.928\n",
      "Ep 9 (Step 001520): Train Loss 1.134 Val loss 6.959\n",
      "Ep 9 (Step 001525): Train Loss 1.116 Val loss 6.796\n",
      "Ep 9 (Step 001530): Train Loss 1.136 Val loss 6.757\n",
      "Ep 9 (Step 001535): Train Loss 1.015 Val loss 6.935\n",
      "Ep 9 (Step 001540): Train Loss 0.994 Val loss 7.100\n",
      "Ep 9 (Step 001545): Train Loss 1.186 Val loss 6.879\n",
      "Ep 9 (Step 001550): Train Loss 0.798 Val loss 7.005\n",
      "Ep 9 (Step 001555): Train Loss 1.087 Val loss 6.911\n",
      "Ep 9 (Step 001560): Train Loss 0.988 Val loss 6.902\n",
      "Ep 9 (Step 001565): Train Loss 1.285 Val loss 6.785\n",
      "Ep 9 (Step 001570): Train Loss 1.092 Val loss 7.020\n",
      "Ep 9 (Step 001575): Train Loss 1.003 Val loss 7.022\n",
      "Ep 9 (Step 001580): Train Loss 0.893 Val loss 7.037\n",
      "Ep 9 (Step 001585): Train Loss 0.954 Val loss 7.145\n",
      "Ep 9 (Step 001590): Train Loss 1.017 Val loss 7.129\n",
      "Ep 9 (Step 001595): Train Loss 1.020 Val loss 6.971\n",
      "Ep 9 (Step 001600): Train Loss 0.989 Val loss 7.039\n",
      "Every effort moves you belong then to be happy is that his peaceful mind, the dark about the profits of the a he had been gone. He endeavoured to the cause of his condemnation. The    “I can I have no money\n",
      "Ep 10 (Step 001605): Train Loss 0.871 Val loss 6.946\n",
      "Ep 10 (Step 001610): Train Loss 0.798 Val loss 6.950\n",
      "Ep 10 (Step 001615): Train Loss 0.763 Val loss 7.141\n",
      "Ep 10 (Step 001620): Train Loss 0.872 Val loss 6.937\n",
      "Ep 10 (Step 001625): Train Loss 0.854 Val loss 7.154\n",
      "Ep 10 (Step 001630): Train Loss 0.929 Val loss 7.200\n",
      "Ep 10 (Step 001635): Train Loss 0.666 Val loss 7.262\n",
      "Ep 10 (Step 001640): Train Loss 0.822 Val loss 7.176\n",
      "Ep 10 (Step 001645): Train Loss 0.765 Val loss 7.006\n",
      "Ep 10 (Step 001650): Train Loss 0.786 Val loss 7.308\n",
      "Ep 10 (Step 001655): Train Loss 0.760 Val loss 7.375\n",
      "Ep 10 (Step 001660): Train Loss 0.744 Val loss 7.088\n",
      "Ep 10 (Step 001665): Train Loss 0.914 Val loss 7.203\n",
      "Ep 10 (Step 001670): Train Loss 0.841 Val loss 7.183\n",
      "Ep 10 (Step 001675): Train Loss 0.673 Val loss 7.362\n",
      "Ep 10 (Step 001680): Train Loss 0.576 Val loss 7.350\n",
      "Ep 10 (Step 001685): Train Loss 0.699 Val loss 7.092\n",
      "Ep 10 (Step 001690): Train Loss 0.713 Val loss 7.221\n",
      "Ep 10 (Step 001695): Train Loss 0.702 Val loss 7.196\n",
      "Ep 10 (Step 001700): Train Loss 0.668 Val loss 7.426\n",
      "Ep 10 (Step 001705): Train Loss 0.651 Val loss 7.416\n",
      "Ep 10 (Step 001710): Train Loss 0.613 Val loss 7.276\n",
      "Ep 10 (Step 001715): Train Loss 0.737 Val loss 7.376\n",
      "Ep 10 (Step 001720): Train Loss 0.627 Val loss 7.269\n",
      "Ep 10 (Step 001725): Train Loss 0.794 Val loss 7.250\n",
      "Ep 10 (Step 001730): Train Loss 0.655 Val loss 7.334\n",
      "Ep 10 (Step 001735): Train Loss 0.579 Val loss 7.282\n",
      "Ep 10 (Step 001740): Train Loss 0.625 Val loss 7.094\n",
      "Ep 10 (Step 001745): Train Loss 0.606 Val loss 7.143\n",
      "Ep 10 (Step 001750): Train Loss 0.611 Val loss 7.109\n",
      "Ep 10 (Step 001755): Train Loss 0.527 Val loss 7.311\n",
      "Ep 10 (Step 001760): Train Loss 0.481 Val loss 7.478\n",
      "Ep 10 (Step 001765): Train Loss 0.561 Val loss 7.215\n",
      "Ep 10 (Step 001770): Train Loss 0.502 Val loss 7.488\n",
      "Ep 10 (Step 001775): Train Loss 0.511 Val loss 7.363\n",
      "Every effort moves you belong would only impress more deeply.’  I have been three months ago, and then you are my fellow I need by my fate I love the inconveniences and perhaps dangers of knowledge of task is already fulfilled!’ \n"
     ]
    }
   ],
   "source": [
    "train_losses, val_losses, tokens_seen = train_model_simple(\n",
    "    model, \n",
    "    train_loader, \n",
    "    val_loader, \n",
    "    optimizer, \n",
    "    device, \n",
    "    num_epochs=num_epochs, \n",
    "    eval_freq=5, \n",
    "    eval_iter=5, \n",
    "    start_context=start_context,\n",
    "    tokenizer=tokenizer\n",
    ")"
   ]
  },
  {
   "cell_type": "code",
   "execution_count": 81,
   "metadata": {},
   "outputs": [
    {
     "data": {
      "image/png": "[encoded data removed]",
      "text/plain": [
       "<Figure size 500x300 with 2 Axes>"
      ]
     },
     "metadata": {},
     "output_type": "display_data"
    }
   ],
   "source": [
    "import matplotlib.pyplot as plt\n",
    "from matplotlib.ticker import MaxNLocator\n",
    "def plot_losses(epochs_seen, tokens_seen, train_losses, val_losses):\n",
    "    fig, ax1 = plt.subplots(figsize=(5, 3))\n",
    "    ax1.plot(epochs_seen, train_losses, label=\"Training loss\")\n",
    "    ax1.plot(\n",
    "        epochs_seen, val_losses, linestyle=\"-.\", label=\"Validation loss\"\n",
    "    )\n",
    "    ax1.set_xlabel(\"Epochs\")\n",
    "    ax1.set_ylabel(\"Loss\")\n",
    "    ax1.legend(loc=\"upper right\")\n",
    "    ax1.xaxis.set_major_locator(MaxNLocator(integer=True))\n",
    "    ax2 = ax1.twiny()\n",
    "    ax2.plot(tokens_seen, train_losses, alpha=0)\n",
    "    ax2.set_xlabel(\"Tokens seen\")\n",
    "    fig.tight_layout()\n",
    "    plt.show()\n",
    "epochs_tensor = torch.linspace(0, num_epochs, len(train_losses))\n",
    "plot_losses(epochs_tensor, tokens_seen, train_losses, val_losses)"
   ]
  },
  {
   "cell_type": "code",
   "execution_count": null,
   "metadata": {},
   "outputs": [],
   "source": [
    "# 35m 30.4s\n",
    "# 20m 50.1s"
   ]
  }
 ],
 "metadata": {
  "kernelspec": {
   "display_name": "build_llm",
   "language": "python",
   "name": "python3"
  },
  "language_info": {
   "codemirror_mode": {
    "name": "ipython",
    "version": 3
   },
   "file_extension": ".py",
   "mimetype": "text/x-python",
   "name": "python",
   "nbconvert_exporter": "python",
   "pygments_lexer": "ipython3",
   "version": "3.11.8"
  }
 },
 "nbformat": 4,
 "nbformat_minor": 2
}
