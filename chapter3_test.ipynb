{
 "cells": [
  {
   "cell_type": "markdown",
   "metadata": {},
   "source": [
    "- Starting with a very simple implementation of Attention, with no training of weights."
   ]
  },
  {
   "cell_type": "code",
   "execution_count": 12,
   "metadata": {},
   "outputs": [],
   "source": [
    "import torch\n",
    "inputs = torch.tensor(\n",
    "  [[0.43, 0.15, 0.89], # Your     (x^1)\n",
    "   [0.55, 0.87, 0.66], # journey  (x^2)\n",
    "   [0.57, 0.85, 0.64], # starts   (x^3)\n",
    "   [0.22, 0.58, 0.33], # with     (x^4)\n",
    "   [0.77, 0.25, 0.10], # one      (x^5)\n",
    "   [0.05, 0.80, 0.55]] # step     (x^6)\n",
    ")\n",
    "\n",
    "word_input = ['Your', 'journey', 'starts', 'with', 'one', 'step']"
   ]
  },
  {
   "cell_type": "markdown",
   "metadata": {},
   "source": [
    "- The text input above is `Your journey starts with one step`.\n",
    "- Each word above is an input token\n",
    "- Each word has an embedding."
   ]
  },
  {
   "cell_type": "code",
   "execution_count": 8,
   "metadata": {},
   "outputs": [
    {
     "name": "stdout",
     "output_type": "stream",
     "text": [
      "tensor([0.9544, 1.4950, 1.4754, 0.8434, 0.7070, 1.0865])\n"
     ]
    }
   ],
   "source": [
    "query = inputs[1] # `journey`\n",
    "\n",
    "# attn scores for each of the word in the input against the word `journey`\n",
    "attn_scores_2 = torch.empty(inputs.shape[0]) # Create empty vector\n",
    "\n",
    "# Doing dot product between `journey` and each word in the input.\n",
    "for i, x_i in enumerate(inputs):\n",
    "    attn_scores_2[i] = torch.dot(x_i, query)\n",
    "\n",
    "print(attn_scores_2)    "
   ]
  },
  {
   "cell_type": "code",
   "execution_count": 9,
   "metadata": {},
   "outputs": [
    {
     "name": "stdout",
     "output_type": "stream",
     "text": [
      "Attention weights: tensor([0.1455, 0.2278, 0.2249, 0.1285, 0.1077, 0.1656])\n",
      "Sum: tensor(1.0000)\n"
     ]
    }
   ],
   "source": [
    "attn_weights_2_tmp = attn_scores_2 / attn_scores_2.sum() # Scale by dividing with the SUM\n",
    "print(\"Attention weights:\", attn_weights_2_tmp)\n",
    "print(\"Sum:\", attn_weights_2_tmp.sum())"
   ]
  },
  {
   "cell_type": "markdown",
   "metadata": {},
   "source": [
    "# The above norailzation is better with softmax\n",
    "- Provides better managing of extreme values and offers more favorable gradients for training."
   ]
  },
  {
   "cell_type": "code",
   "execution_count": 9,
   "metadata": {},
   "outputs": [
    {
     "name": "stdout",
     "output_type": "stream",
     "text": [
      "Attention weights: tensor([0.1385, 0.2379, 0.2333, 0.1240, 0.1082, 0.1581])\n",
      "Sum: tensor(1.)\n"
     ]
    }
   ],
   "source": [
    "def softmax_naive(x): \n",
    "    '''Calculate and return the softmax'''\n",
    "    return torch.exp(x) / torch.exp(x).sum(dim=0)\n",
    "\n",
    "attn_weights_2_naive = softmax_naive(attn_scores_2)\n",
    "print(\"Attention weights:\", attn_weights_2_naive)\n",
    "print(\"Sum:\", attn_weights_2_naive.sum())\n"
   ]
  },
  {
   "cell_type": "code",
   "execution_count": 10,
   "metadata": {},
   "outputs": [
    {
     "name": "stdout",
     "output_type": "stream",
     "text": [
      "Attention weights: tensor([0.1385, 0.2379, 0.2333, 0.1240, 0.1082, 0.1581])\n",
      "Sum: tensor(1.)\n"
     ]
    }
   ],
   "source": [
    "# Torch has a better implementation\n",
    "attn_weights_2 = torch.softmax(attn_scores_2, dim=0)\n",
    "print(\"Attention weights:\", attn_weights_2)\n",
    "print(\"Sum:\", attn_weights_2.sum())"
   ]
  },
  {
   "cell_type": "code",
   "execution_count": 57,
   "metadata": {},
   "outputs": [
    {
     "name": "stdout",
     "output_type": "stream",
     "text": [
      "Word      : Word Embedding                   : Word Attn for `journey`  : Context vector after each word\n",
      "=========================================================================================================\n",
      "Your      : tensor([0.4300, 0.1500, 0.8900]) : 0.138547569513320922852  : tensor([0., 0., 0.])\n",
      "journey   : tensor([0.5500, 0.8700, 0.6600]) : 0.237891301512718200684  : tensor([0.0596, 0.0208, 0.1233])\n",
      "starts    : tensor([0.5700, 0.8500, 0.6400]) : 0.233274027705192565918  : tensor([0.1904, 0.2277, 0.2803])\n",
      "with      : tensor([0.2200, 0.5800, 0.3300]) : 0.123991586267948150635  : tensor([0.3234, 0.4260, 0.4296])\n",
      "one       : tensor([0.7700, 0.2500, 0.1000]) : 0.108181864023208618164  : tensor([0.3507, 0.4979, 0.4705])\n",
      "step      : tensor([0.0500, 0.8000, 0.5500]) : 0.158113613724708557129  : tensor([0.4340, 0.5250, 0.4813])\n",
      "Final Context vector for `journey` =  tensor([0.4419, 0.6515, 0.5683])\n"
     ]
    }
   ],
   "source": [
    "query = inputs[1] # 2nd input token = `journey`\n",
    "\n",
    "context_vec_2 = torch.zeros(query.shape)\n",
    "print(\"Word      : Word Embedding                   : Word Attn for `journey`  : Context vector after each word\")\n",
    "print(\"=\"*105)\n",
    "\n",
    "for i,x_i in enumerate(inputs):\n",
    "    print(f\"{word_input[i]:<10}: {x_i} : {attn_weights_2[i]:1.21}  : {context_vec_2}\")\n",
    "    context_vec_2 += attn_weights_2[i]*x_i\n",
    "\n",
    "print(\"Final Context vector for `journey` = \",context_vec_2) # This is the context vector for `journey`"
   ]
  },
  {
   "cell_type": "markdown",
   "metadata": {},
   "source": [
    "- The attention weights we calculated for each of word in the input, while the second word was used as the query.\n",
    "- Once the attention weights are available, each word in the input is multiplied by its attention weight to generate the new context vector for the input query.\n",
    "- Next, compute the context vector for all the words in the input. The 3 steps for computing the context vector are:\n",
    "    1) Compute the attention scores\n",
    "    2) Compute the attention weights\n",
    "    3) Compute the context vectors.\n"
   ]
  },
  {
   "cell_type": "code",
   "execution_count": 77,
   "metadata": {},
   "outputs": [
    {
     "name": "stdout",
     "output_type": "stream",
     "text": [
      "tensor(0.4300) tensor(0.1385) tensor(0.0596) tensor(0.0596)\n",
      "tensor(0.5500) tensor(0.2379) tensor(0.1308) tensor(0.1904)\n",
      "tensor(0.5700) tensor(0.2333) tensor(0.1330) tensor(0.3234)\n",
      "tensor(0.2200) tensor(0.1240) tensor(0.0273) tensor(0.3507)\n",
      "tensor(0.7700) tensor(0.1082) tensor(0.0833) tensor(0.4340)\n",
      "tensor(0.0500) tensor(0.1581) tensor(0.0079) tensor(0.4419)\n"
     ]
    }
   ],
   "source": [
    "ctx_sum = 0\n",
    "for i, sample in enumerate(inputs):\n",
    "    ctx_sum += sample[0] * attn_weights_2[i] # cumulative sum of each word times it attention weight.\n",
    "    print(sample[0], attn_weights_2[i], sample[0] * attn_weights_2[i], ctx_sum)\n",
    "\n",
    "# The code above shows how the first dimension for the context vector is calculated."
   ]
  },
  {
   "cell_type": "code",
   "execution_count": 19,
   "metadata": {},
   "outputs": [
    {
     "name": "stdout",
     "output_type": "stream",
     "text": [
      "tensor([[0.9995, 0.9544, 0.9422, 0.4753, 0.4576, 0.6310],\n",
      "        [0.9544, 1.4950, 1.4754, 0.8434, 0.7070, 1.0865],\n",
      "        [0.9422, 1.4754, 1.4570, 0.8296, 0.7154, 1.0605],\n",
      "        [0.4753, 0.8434, 0.8296, 0.4937, 0.3474, 0.6565],\n",
      "        [0.4576, 0.7070, 0.7154, 0.3474, 0.6654, 0.2935],\n",
      "        [0.6310, 1.0865, 1.0605, 0.6565, 0.2935, 0.9450]])\n"
     ]
    }
   ],
   "source": [
    "# Input has 6 words. Each word will attend to itself and the other words.\n",
    "# Hence the attention scores will be a 6 X 6 matrix.\n",
    "attn_scores = torch.empty(6, 6)\n",
    "for i, x_i in enumerate(inputs):\n",
    "    for j, x_j in enumerate(inputs):\n",
    "        attn_scores[i, j] = torch.dot(x_i, x_j)\n",
    "print(attn_scores)        \n"
   ]
  },
  {
   "cell_type": "code",
   "execution_count": 20,
   "metadata": {},
   "outputs": [
    {
     "name": "stdout",
     "output_type": "stream",
     "text": [
      "tensor([[0.9995, 0.9544, 0.9422, 0.4753, 0.4576, 0.6310],\n",
      "        [0.9544, 1.4950, 1.4754, 0.8434, 0.7070, 1.0865],\n",
      "        [0.9422, 1.4754, 1.4570, 0.8296, 0.7154, 1.0605],\n",
      "        [0.4753, 0.8434, 0.8296, 0.4937, 0.3474, 0.6565],\n",
      "        [0.4576, 0.7070, 0.7154, 0.3474, 0.6654, 0.2935],\n",
      "        [0.6310, 1.0865, 1.0605, 0.6565, 0.2935, 0.9450]])\n"
     ]
    }
   ],
   "source": [
    "# quicker way to do it\n",
    "attn_scores = inputs @ inputs.T\n",
    "print(attn_scores)"
   ]
  },
  {
   "cell_type": "code",
   "execution_count": 21,
   "metadata": {},
   "outputs": [
    {
     "name": "stdout",
     "output_type": "stream",
     "text": [
      "tensor([[0.2098, 0.2006, 0.1981, 0.1242, 0.1220, 0.1452],\n",
      "        [0.1385, 0.2379, 0.2333, 0.1240, 0.1082, 0.1581],\n",
      "        [0.1390, 0.2369, 0.2326, 0.1242, 0.1108, 0.1565],\n",
      "        [0.1435, 0.2074, 0.2046, 0.1462, 0.1263, 0.1720],\n",
      "        [0.1526, 0.1958, 0.1975, 0.1367, 0.1879, 0.1295],\n",
      "        [0.1385, 0.2184, 0.2128, 0.1420, 0.0988, 0.1896]])\n"
     ]
    }
   ],
   "source": [
    "# Normalize the scores\n",
    "attn_weights = torch.softmax(attn_scores, dim=-1) # -1 is the last dimension\n",
    "print(attn_weights)"
   ]
  },
  {
   "cell_type": "code",
   "execution_count": 24,
   "metadata": {},
   "outputs": [
    {
     "data": {
      "text/plain": [
       "tensor([1.0000, 1.0000, 1.0000, 1.0000, 1.0000, 1.0000])"
      ]
     },
     "execution_count": 24,
     "metadata": {},
     "output_type": "execute_result"
    }
   ],
   "source": [
    "attn_weights.sum(axis=-1)"
   ]
  },
  {
   "cell_type": "code",
   "execution_count": 25,
   "metadata": {},
   "outputs": [
    {
     "name": "stdout",
     "output_type": "stream",
     "text": [
      "tensor([[0.4421, 0.5931, 0.5790],\n",
      "        [0.4419, 0.6515, 0.5683],\n",
      "        [0.4431, 0.6496, 0.5671],\n",
      "        [0.4304, 0.6298, 0.5510],\n",
      "        [0.4671, 0.5910, 0.5266],\n",
      "        [0.4177, 0.6503, 0.5645]])\n"
     ]
    }
   ],
   "source": [
    "# Finally compute all the context vectors\n",
    "all_context_vectors = attn_weights @ inputs\n",
    "print(all_context_vectors)"
   ]
  },
  {
   "cell_type": "markdown",
   "metadata": {},
   "source": [
    "# Implementing Self-Attention with trainable weights\n",
    "- `scaled_dot_product_attention`\n",
    "As done above first we will compute the example using one input (the word `journey`) and then extend it to all the words."
   ]
  },
  {
   "cell_type": "code",
   "execution_count": 83,
   "metadata": {},
   "outputs": [],
   "source": [
    "x_2 = inputs[1] # This is the second element of the input. `journey`\n",
    "d_in = inputs.shape[1] # The input embedding size, d=3.\n",
    "d_out = 2 # the output embedding size, d=2. Note the input and output embedding sizes are not the same."
   ]
  },
  {
   "cell_type": "code",
   "execution_count": 84,
   "metadata": {},
   "outputs": [
    {
     "name": "stdout",
     "output_type": "stream",
     "text": [
      "Parameter containing:\n",
      "tensor([[0.2961, 0.5166],\n",
      "        [0.2517, 0.6886],\n",
      "        [0.0740, 0.8665]])\n"
     ]
    }
   ],
   "source": [
    "# Initialize the weight matrices\n",
    "torch.manual_seed(123)\n",
    "# requires_grad set to False to reduce clutter, but for training this would be set to True\n",
    "W_query = torch.nn.Parameter(torch.rand(d_in, d_out), requires_grad=False)\n",
    "W_key = torch.nn.Parameter(torch.rand(d_in, d_out), requires_grad=False)\n",
    "W_value = torch.nn.Parameter(torch.rand(d_in, d_out), requires_grad=False)\n",
    "print(W_query)"
   ]
  },
  {
   "cell_type": "code",
   "execution_count": 85,
   "metadata": {},
   "outputs": [
    {
     "name": "stdout",
     "output_type": "stream",
     "text": [
      "tensor([0.4306, 1.4551])\n",
      "tensor([0.4433, 1.1419])\n",
      "tensor([0.3951, 1.0037])\n"
     ]
    }
   ],
   "source": [
    "# Dot product with the query, key and value matrices\n",
    "# This is for the second word `journey`\n",
    "query_2 = x_2 @ W_query\n",
    "key_2 = x_2 @ W_key\n",
    "value_2 = x_2 @ W_value\n",
    "print(query_2)\n",
    "print(key_2)\n",
    "print(value_2)"
   ]
  },
  {
   "cell_type": "markdown",
   "metadata": {},
   "source": [
    "- We are focused on computing the context vector (z_2) for the input 2 (x_2 : `journey`)\n",
    "- But in order to do that we still require the key and value vector for all the input elements.\n",
    "- This is b/c they are involved in computing the attention weights with respect to the query x_2."
   ]
  },
  {
   "cell_type": "code",
   "execution_count": 86,
   "metadata": {},
   "outputs": [
    {
     "name": "stdout",
     "output_type": "stream",
     "text": [
      "keys.shape:  torch.Size([6, 2])\n",
      "values.shape:  torch.Size([6, 2])\n"
     ]
    }
   ],
   "source": [
    "# Compute the keys and values for all the inputs\n",
    "keys = inputs @ W_key\n",
    "values = inputs @ W_value\n",
    "print(f\"keys.shape: \", keys.shape)\n",
    "print(f\"values.shape: \", values.shape)"
   ]
  },
  {
   "cell_type": "markdown",
   "metadata": {},
   "source": [
    "# KEYS\n",
    "```\n",
    "+---------+--------+--------+\n",
    "|         |   d1   |   d2   |\n",
    "+---------+--------+--------+\n",
    "| Your    | 0.3669 | 0.7646 |\n",
    "+---------+--------+--------+\n",
    "| journey | 0.4433 | 1.1419 |\n",
    "+---------+--------+--------+\n",
    "| starts  | 0.4361 | 1.1156 |\n",
    "+---------+--------+--------+\n",
    "| with    | 0.2408 | 0.6706 |\n",
    "+---------+--------+--------+\n",
    "| one     | 0.1827 | 0.3292 |\n",
    "+---------+--------+--------+\n",
    "| step    | 0.3275 | 0.9642 |\n",
    "+---------+--------+--------+\n",
    "```\n",
    "\n",
    "# VALUES\n",
    "```\n",
    "+---------+--------+--------+\n",
    "|         |   d1   |   d2   |\n",
    "+---------+--------+--------+\n",
    "| Your    | 0.1855 | 0.8812 |\n",
    "+---------+--------+--------+\n",
    "| journey | 0.3951 | 1.0037 |\n",
    "+---------+--------+--------+\n",
    "| starts  | 0.3879 | 0.9831 |\n",
    "+---------+--------+--------+\n",
    "| with    | 0.2393 | 0.5493 |\n",
    "+---------+--------+--------+\n",
    "| one     | 0.1492 | 0.3346 |\n",
    "+---------+--------+--------+\n",
    "| step    | 0.3221 | 0.7863 |\n",
    "+---------+--------+--------+\n",
    "```\n",
    "\n",
    "- Using the `keys` and the `values` calculated above for all the inputs, we will now generate the attention score for each of the word in the input against the x_2 (`journey`)\n",
    "- Hence, for the first input `Your`, the attention score will be the query for the word `journey`, is the dot product of the key values for `Your` and query values for `journey`. \n",
    "- Check the value of the query_2 for the word `journey`.\n",
    "\n",
    "```\n",
    "-----------------------------------------\n",
    "|           Dot Product Calculation     |\n",
    "-----------------------------------------\n",
    "|  Values:                              |\n",
    "|                                       |\n",
    "|  Your from Table 1:                   |\n",
    "|    - d1 = 0.3669                      |\n",
    "|    - d2 = 0.7646                      |\n",
    "|                                       |\n",
    "|  journey from Table 2:                |\n",
    "|    - d1 = 0.4306                      |\n",
    "|    - d2 = 1.4551                      |\n",
    "|                                       |\n",
    "|  Dot Product Formula:                 |\n",
    "|  -----------------------------------  |\n",
    "|  (0.3669 * 0.4306) + (0.7646 * 1.4551)|\n",
    "|                                       |\n",
    "|  Calculations:                        |\n",
    "|    - 0.3669 * 0.4306 = 0.1579         |\n",
    "|    - 0.7646 * 1.4551 = 1.1119         |\n",
    "|                                       |\n",
    "|  Result:                              |\n",
    "|    - 0.1579 + 1.1119 = 1.2698         |\n",
    "|                                       |\n",
    "|  Dot Product = 1.2698                 |\n",
    "-----------------------------------------\n",
    "```\n",
    "- The above is the vallue of `attention_score_21`. The attention that the second word `journey` has to be pay on the first word `Your`.\n"
   ]
  },
  {
   "cell_type": "code",
   "execution_count": 100,
   "metadata": {},
   "outputs": [
    {
     "name": "stdout",
     "output_type": "stream",
     "text": [
      "tensor(1.8524)\n"
     ]
    }
   ],
   "source": [
    "# Calculation of attention_score_22 following the logic above.\n",
    "keys_2 = keys[1]\n",
    "attn_scores_22 = query_2.dot(keys_2)\n",
    "print(attn_scores_22)"
   ]
  },
  {
   "cell_type": "code",
   "execution_count": 101,
   "metadata": {},
   "outputs": [
    {
     "name": "stdout",
     "output_type": "stream",
     "text": [
      "tensor([1.2705, 1.8524, 1.8111, 1.0795, 0.5577, 1.5440])\n"
     ]
    }
   ],
   "source": [
    "# Calculating the attention score for all the keys/words in the input.\n",
    "attn_scores_2 =  query_2 @ keys.T\n",
    "print(attn_scores_2)"
   ]
  },
  {
   "cell_type": "markdown",
   "metadata": {},
   "source": [
    "### Converting from attention scores to attention weights"
   ]
  },
  {
   "cell_type": "code",
   "execution_count": 50,
   "metadata": {},
   "outputs": [
    {
     "name": "stdout",
     "output_type": "stream",
     "text": [
      "tensor([0.1500, 0.2264, 0.2199, 0.1311, 0.0906, 0.1820])\n"
     ]
    }
   ],
   "source": [
    "d_k = keys.shape[-1]\n",
    "attn_weights_2 = torch.softmax(attn_scores_2 / d_k**0.5, dim=-1)\n",
    "print(attn_weights_2)"
   ]
  },
  {
   "cell_type": "markdown",
   "metadata": {},
   "source": [
    "- Above, we scale the attention scores by dividing them by the `sqaure root` of the embedding dimension of the keys. Provides stability during training."
   ]
  },
  {
   "cell_type": "markdown",
   "metadata": {},
   "source": [
    "# Caluclating Context Vector:\n",
    "- Each of the word's attention weight was caluclated above wrt `journey`.\n",
    "- The context for `journey` is computed by doing a dot product between the attention_weights and the values of each of the word.\n",
    "- This generates context for the word `journey`.\n",
    "- This is effectively just multiplying the 2-D value of each word with the required attention_weight for that word, and then summing them all.\n",
    "- What we get below is the single context vector for the word `journey`.\n",
    "- We need to do the same for all the inputs."
   ]
  },
  {
   "cell_type": "code",
   "execution_count": 102,
   "metadata": {},
   "outputs": [
    {
     "name": "stdout",
     "output_type": "stream",
     "text": [
      "tensor([0.3069, 0.8188])\n"
     ]
    }
   ],
   "source": [
    "# caluclate the context\n",
    "context_vec_2 = attn_weights_2  @ values\n",
    "print(context_vec_2)"
   ]
  },
  {
   "cell_type": "markdown",
   "metadata": {},
   "source": [
    "# Compact self_attention Python class"
   ]
  },
  {
   "cell_type": "code",
   "execution_count": 104,
   "metadata": {},
   "outputs": [],
   "source": [
    "import torch.nn as nn\n",
    "class SelfAttention_v1(nn.Module):\n",
    "    def __init__(self, d_in, d_out):\n",
    "        super().__init__()\n",
    "        self.d_out = d_out\n",
    "        self.W_query = nn.Parameter(torch.rand(d_in, d_out))\n",
    "        self.W_key = nn.Parameter(torch.rand(d_in, d_out))\n",
    "        self.W_value = nn.Parameter(torch.rand(d_in, d_out))\n",
    "\n",
    "    def forward(self,x):\n",
    "        keys = x @ self.W_key\n",
    "        queries = x @ self.W_query\n",
    "        values = x @ self.W_value\n",
    "        attn_scores = queries @ keys.T\n",
    "        attn_weights = torch.softmax(attn_scores/keys.shape[-1]**0.5, dim=-1)\n",
    "        context_vec = attn_weights @ values\n",
    "        return context_vec\n",
    "\n"
   ]
  },
  {
   "cell_type": "code",
   "execution_count": 105,
   "metadata": {},
   "outputs": [
    {
     "name": "stdout",
     "output_type": "stream",
     "text": [
      "tensor([[0.2996, 0.8053],\n",
      "        [0.3061, 0.8210],\n",
      "        [0.3058, 0.8203],\n",
      "        [0.2948, 0.7939],\n",
      "        [0.2927, 0.7891],\n",
      "        [0.2990, 0.8040]], grad_fn=<MmBackward0>)\n"
     ]
    }
   ],
   "source": [
    "torch.manual_seed(123)\n",
    "\n",
    "# Create the self-attention instance\n",
    "sa_v1 = SelfAttention_v1(d_in, d_out)\n",
    "\n",
    "# Run it on the inputs.\n",
    "print(sa_v1(inputs))"
   ]
  },
  {
   "cell_type": "code",
   "execution_count": 126,
   "metadata": {},
   "outputs": [],
   "source": [
    "# Another implementation\n",
    "# nn.Linear has optimized weight initilaization. So use that rather than nn.Parameter\n",
    "class SelfAttention_v2(nn.Module):\n",
    "    def __init__(self, d_in, d_out, qkv_bias=False):\n",
    "        super().__init__()\n",
    "        self.d_out = d_out\n",
    "        self.W_query = nn.Linear(d_in, d_out, bias=qkv_bias)\n",
    "        self.W_key = nn.Linear(d_in, d_out, bias=qkv_bias)\n",
    "        self.W_value = nn.Linear(d_in, d_out, bias=qkv_bias)\n",
    "\n",
    "    def forward(self,x):\n",
    "        keys = self.W_key(x)\n",
    "        queries = self.W_query(x)\n",
    "        values = self.W_value(x)\n",
    "        attn_scores = queries @ keys.T\n",
    "        attn_weights = torch.softmax(attn_scores/keys.shape[-1]**0.5, dim=-1)\n",
    "        context_vec = attn_weights @ values\n",
    "        return context_vec\n"
   ]
  },
  {
   "cell_type": "code",
   "execution_count": 127,
   "metadata": {},
   "outputs": [
    {
     "name": "stdout",
     "output_type": "stream",
     "text": [
      "tensor([[-0.0739,  0.0713],\n",
      "        [-0.0748,  0.0703],\n",
      "        [-0.0749,  0.0702],\n",
      "        [-0.0760,  0.0685],\n",
      "        [-0.0763,  0.0679],\n",
      "        [-0.0754,  0.0693]], grad_fn=<MmBackward0>)\n"
     ]
    }
   ],
   "source": [
    "torch.manual_seed(789)\n",
    "sa_v2 = SelfAttention_v2(d_in, d_out)\n",
    "print(sa_v2(inputs))\n",
    "# Note the answer is different, since nn.Linear uses a different and more sophisticated weight initialization."
   ]
  },
  {
   "cell_type": "markdown",
   "metadata": {},
   "source": [
    "# Causal Attention / Masked Attention\n",
    "- Future prediction should only depend on the past words."
   ]
  },
  {
   "cell_type": "code",
   "execution_count": 128,
   "metadata": {},
   "outputs": [
    {
     "name": "stdout",
     "output_type": "stream",
     "text": [
      "tensor([[0.1921, 0.1646, 0.1652, 0.1550, 0.1721, 0.1510],\n",
      "        [0.2041, 0.1659, 0.1662, 0.1496, 0.1665, 0.1477],\n",
      "        [0.2036, 0.1659, 0.1662, 0.1498, 0.1664, 0.1480],\n",
      "        [0.1869, 0.1667, 0.1668, 0.1571, 0.1661, 0.1564],\n",
      "        [0.1830, 0.1669, 0.1670, 0.1588, 0.1658, 0.1585],\n",
      "        [0.1935, 0.1663, 0.1666, 0.1542, 0.1666, 0.1529]],\n",
      "       grad_fn=<SoftmaxBackward0>)\n"
     ]
    }
   ],
   "source": [
    "queries = sa_v2.W_query(inputs)\n",
    "keys = sa_v2.W_key(inputs)\n",
    "attn_scores = queries @ keys.T\n",
    "attn_weights = torch.softmax(attn_scores/keys.shape[-1]**0.5, dim=-1)\n",
    "print(attn_weights)"
   ]
  },
  {
   "cell_type": "code",
   "execution_count": 129,
   "metadata": {},
   "outputs": [
    {
     "data": {
      "text/plain": [
       "tensor([[1., 0., 0., 0., 0., 0.],\n",
       "        [1., 1., 0., 0., 0., 0.],\n",
       "        [1., 1., 1., 0., 0., 0.],\n",
       "        [1., 1., 1., 1., 0., 0.],\n",
       "        [1., 1., 1., 1., 1., 0.],\n",
       "        [1., 1., 1., 1., 1., 1.]])"
      ]
     },
     "execution_count": 129,
     "metadata": {},
     "output_type": "execute_result"
    }
   ],
   "source": [
    "# Mask can be created using the TRIL function from pytorch\n",
    "context_length = attn_scores.shape[0]\n",
    "mask_simple = torch.tril(torch.ones(context_length, context_length))\n",
    "mask_simple"
   ]
  },
  {
   "cell_type": "code",
   "execution_count": 130,
   "metadata": {},
   "outputs": [
    {
     "data": {
      "text/plain": [
       "tensor([[0.1921, 0.0000, 0.0000, 0.0000, 0.0000, 0.0000],\n",
       "        [0.2041, 0.1659, 0.0000, 0.0000, 0.0000, 0.0000],\n",
       "        [0.2036, 0.1659, 0.1662, 0.0000, 0.0000, 0.0000],\n",
       "        [0.1869, 0.1667, 0.1668, 0.1571, 0.0000, 0.0000],\n",
       "        [0.1830, 0.1669, 0.1670, 0.1588, 0.1658, 0.0000],\n",
       "        [0.1935, 0.1663, 0.1666, 0.1542, 0.1666, 0.1529]],\n",
       "       grad_fn=<MulBackward0>)"
      ]
     },
     "execution_count": 130,
     "metadata": {},
     "output_type": "execute_result"
    }
   ],
   "source": [
    "#Multiply mask with attention weights\n",
    "masked_simple = attn_weights * mask_simple\n",
    "masked_simple"
   ]
  },
  {
   "cell_type": "code",
   "execution_count": 131,
   "metadata": {},
   "outputs": [
    {
     "name": "stdout",
     "output_type": "stream",
     "text": [
      "tensor([[1.0000, 0.0000, 0.0000, 0.0000, 0.0000, 0.0000],\n",
      "        [0.5517, 0.4483, 0.0000, 0.0000, 0.0000, 0.0000],\n",
      "        [0.3800, 0.3097, 0.3103, 0.0000, 0.0000, 0.0000],\n",
      "        [0.2758, 0.2460, 0.2462, 0.2319, 0.0000, 0.0000],\n",
      "        [0.2175, 0.1983, 0.1984, 0.1888, 0.1971, 0.0000],\n",
      "        [0.1935, 0.1663, 0.1666, 0.1542, 0.1666, 0.1529]],\n",
      "       grad_fn=<DivBackward0>)\n"
     ]
    }
   ],
   "source": [
    "# renormalize to sum = 1 in each row\n",
    "row_sums = masked_simple.sum(dim=1, keepdim=True)\n",
    "masked_simple_norm = masked_simple / row_sums\n",
    "print(masked_simple_norm)"
   ]
  },
  {
   "cell_type": "code",
   "execution_count": 137,
   "metadata": {},
   "outputs": [
    {
     "name": "stdout",
     "output_type": "stream",
     "text": [
      "tensor([[1.0000, 0.0000, 0.0000, 0.0000, 0.0000, 0.0000],\n",
      "        [0.5517, 0.4483, 0.0000, 0.0000, 0.0000, 0.0000],\n",
      "        [0.3800, 0.3097, 0.3103, 0.0000, 0.0000, 0.0000],\n",
      "        [0.2758, 0.2460, 0.2462, 0.2319, 0.0000, 0.0000],\n",
      "        [0.2175, 0.1983, 0.1984, 0.1888, 0.1971, 0.0000],\n",
      "        [0.1935, 0.1663, 0.1666, 0.1542, 0.1666, 0.1529]],\n",
      "       grad_fn=<SoftmaxBackward0>)\n"
     ]
    }
   ],
   "source": [
    "# More efficient implementation with softmax\n",
    "mask = torch.triu(torch.ones(context_length, context_length), diagonal=1)\n",
    "masked = attn_scores.masked_fill(mask.bool(), -torch.inf)\n",
    "# The above sets everything up and now only next step is softmax\n",
    "attn_weights = torch.softmax(masked / keys.shape[-1]**0.5,dim=1)\n",
    "print(attn_weights)\n"
   ]
  },
  {
   "cell_type": "markdown",
   "metadata": {},
   "source": [
    "# Dropout to prevent over-fitting"
   ]
  },
  {
   "cell_type": "code",
   "execution_count": 78,
   "metadata": {},
   "outputs": [
    {
     "name": "stdout",
     "output_type": "stream",
     "text": [
      "tensor([[2., 2., 2., 2., 2., 2.],\n",
      "        [0., 2., 0., 0., 0., 0.],\n",
      "        [0., 0., 2., 0., 2., 0.],\n",
      "        [2., 2., 0., 0., 0., 2.],\n",
      "        [2., 0., 0., 0., 0., 2.],\n",
      "        [0., 2., 0., 0., 0., 0.]])\n"
     ]
    }
   ],
   "source": [
    "# Using dropout to prevent overfitting\n",
    "# Can be applied after attention scores or after applying the attention weights to the values vector\n",
    "# Here the second is shown since it is more commonly used.\n",
    "# Since half of the elements are set to zero, in order to maintain simiar number of active element, the entire matrix is scaled by 1/0.5 = 2.\n",
    "\n",
    "torch.manual_seed(123)\n",
    "dropout = nn.Dropout(0.5)\n",
    "example = torch.ones(6, 6)\n",
    "print(dropout(example))"
   ]
  },
  {
   "cell_type": "code",
   "execution_count": 80,
   "metadata": {},
   "outputs": [
    {
     "name": "stdout",
     "output_type": "stream",
     "text": [
      "tensor([[2.0000, 0.0000, 0.0000, 0.0000, 0.0000, 0.0000],\n",
      "        [0.0000, 0.8966, 0.0000, 0.0000, 0.0000, 0.0000],\n",
      "        [0.0000, 0.0000, 0.6206, 0.0000, 0.0000, 0.0000],\n",
      "        [0.5517, 0.4921, 0.0000, 0.0000, 0.0000, 0.0000],\n",
      "        [0.4350, 0.0000, 0.0000, 0.0000, 0.0000, 0.0000],\n",
      "        [0.0000, 0.3327, 0.0000, 0.0000, 0.0000, 0.0000]],\n",
      "       grad_fn=<MulBackward0>)\n"
     ]
    }
   ],
   "source": [
    "torch.manual_seed(123)\n",
    "print(dropout(attn_weights))"
   ]
  },
  {
   "cell_type": "markdown",
   "metadata": {},
   "source": [
    "# Class of Causal Attention:\n",
    "- We will use masking for causal attention\n",
    "- We will use dropout.\n",
    "- We will use this class when we do Multi-head attention\n",
    "- We will ensure that it can handle batches."
   ]
  },
  {
   "cell_type": "code",
   "execution_count": 140,
   "metadata": {},
   "outputs": [
    {
     "data": {
      "text/plain": [
       "torch.Size([2, 6, 3])"
      ]
     },
     "execution_count": 140,
     "metadata": {},
     "output_type": "execute_result"
    }
   ],
   "source": [
    "# for the sake of simplicity, we will just stack same inputs to make a batch\n",
    "batch = torch.stack((inputs, inputs), dim=0)\n",
    "batch.shape\n",
    "# These are 2 inputs with 6 tokens each"
   ]
  },
  {
   "cell_type": "code",
   "execution_count": 141,
   "metadata": {},
   "outputs": [],
   "source": [
    "class CausalAttention(nn.Module):\n",
    "    def __init__(self, d_in, d_out, context_length, dropout, qkv_bias=False):\n",
    "        super().__init__()\n",
    "        self.d_out = d_out\n",
    "        self.W_query = nn.Linear(d_in, d_out, bias=qkv_bias)\n",
    "        self.W_key = nn.Linear(d_in, d_out, bias=qkv_bias)\n",
    "        self.W_value = nn.Linear(d_in, d_out, bias=qkv_bias)\n",
    "        self.dropout = nn.Dropout(dropout)\n",
    "        self.register_buffer('mask', torch.triu(torch.ones(context_length, context_length), diagonal=1))\n",
    "\n",
    "    def forward(self, x):\n",
    "        b, num_tokens, d_in = x.shape # b is batch size, num_tokens is number of tokens and d_in is the embedding dimension for each token\n",
    "        keys = self.W_key(x) \n",
    "        queries = self.W_query(x)\n",
    "        values = self.W_value(x)\n",
    "        \n",
    "        # note that keys, values and queries are computed for all batches\n",
    "\n",
    "        attn_scores = queries @ keys.transpose(1, 2) \n",
    "        # note that matric multiplication is done for 2-D matrices. \n",
    "        # The first dimension is batch number. So in order to matrix multiply queries and keys, \n",
    "        # we need to do keys.T. This can be done using the transpose function in pytorch.\n",
    "        attn_scores.masked_fill_(self.mask.bool()[:num_tokens, :num_tokens], -torch.inf)\n",
    "        attn_weights = torch.softmax(attn_scores / keys.shape[-1]**0.5, dim=-1)\n",
    "        attn_weights = self.dropout(attn_weights)\n",
    "\n",
    "        context_vec = attn_weights @ values\n",
    "        return context_vec\n",
    "\n"
   ]
  },
  {
   "cell_type": "code",
   "execution_count": 166,
   "metadata": {},
   "outputs": [
    {
     "name": "stdout",
     "output_type": "stream",
     "text": [
      "Batch size: 2\n",
      "Number of tokens/ context length: 6\n",
      "Input dimensions: 3\n",
      "Shape of keys, queries, and values: (torch.Size([2, 6, 2]), torch.Size([2, 6, 2]), torch.Size([2, 6, 2]))\n",
      "Context Vector\n",
      "tensor([[[-0.2905, -0.1901],\n",
      "         [-0.1142, -0.3385],\n",
      "         [-0.1021, -0.0668],\n",
      "         [-0.1369, -0.2201],\n",
      "         [-0.1880, -0.4329],\n",
      "         [-0.2015, -0.4806]],\n",
      "\n",
      "        [[-0.2905, -0.1901],\n",
      "         [-0.2656, -0.4376],\n",
      "         [-0.2603, -0.5219],\n",
      "         [-0.2133, -0.5038],\n",
      "         [-0.1952, -0.3316],\n",
      "         [-0.0367, -0.2071]]], grad_fn=<UnsafeViewBackward0>)\n"
     ]
    }
   ],
   "source": [
    "d_out = 2\n",
    "W_query = nn.Linear(d_in, d_out, bias=False)\n",
    "W_key = nn.Linear(d_in, d_out, bias=False)\n",
    "W_value = nn.Linear(d_in, d_out, bias=False)\n",
    "dropout = nn.Dropout(0.2)\n",
    "mask = torch.triu(torch.ones(context_length, context_length), diagonal=1)\n",
    "#\n",
    "##########################\n",
    "b, num_tokens, d_in = batch.shape\n",
    "print(f\"Batch size: {b}\")\n",
    "print(f\"Number of tokens/ context length: {num_tokens}\")\n",
    "print(f\"Input dimensions: {d_in}\")\n",
    "\n",
    "##########################\n",
    "keys = W_key(batch)\n",
    "queries = W_query(batch)\n",
    "values = W_value(batch)\n",
    "print(f\"Shape of keys, queries, and values: {(keys.shape, queries.shape, values.shape)}\")\n",
    "\n",
    "##########################\n",
    "attn_scores = queries @ keys.transpose(1,2)\n",
    "attn_scores.masked_fill_(mask.bool()[:num_tokens, :num_tokens], -torch.inf)\n",
    "attn_weights = torch.softmax(attn_scores/keys.shape[-1]**0.5, dim=-1)\n",
    "attn_weights = dropout(attn_weights)\n",
    "context_vec = attn_weights @ values\n",
    "print(\"Context Vector\")\n",
    "print(context_vec)\n"
   ]
  },
  {
   "cell_type": "code",
   "execution_count": 162,
   "metadata": {},
   "outputs": [
    {
     "data": {
      "text/plain": [
       "torch.Size([2, 6, 6])"
      ]
     },
     "execution_count": 162,
     "metadata": {},
     "output_type": "execute_result"
    }
   ],
   "source": [
    "attn_weights.shape"
   ]
  },
  {
   "cell_type": "code",
   "execution_count": 164,
   "metadata": {},
   "outputs": [
    {
     "data": {
      "text/plain": [
       "torch.Size([2, 6, 2])"
      ]
     },
     "execution_count": 164,
     "metadata": {},
     "output_type": "execute_result"
    }
   ],
   "source": [
    "values.shape"
   ]
  },
  {
   "cell_type": "code",
   "execution_count": 93,
   "metadata": {},
   "outputs": [
    {
     "name": "stdout",
     "output_type": "stream",
     "text": [
      "torch.Size([2, 6, 2])\n"
     ]
    }
   ],
   "source": [
    "torch.manual_seed(123)\n",
    "context_length = batch.shape[1]\n",
    "ca = CausalAttention(d_in, d_out, context_length, 0.0)\n",
    "context_vecs = ca(batch)\n",
    "print(context_vecs.shape)"
   ]
  },
  {
   "cell_type": "markdown",
   "metadata": {},
   "source": [
    "# Extend Single Head to Multi Head"
   ]
  },
  {
   "cell_type": "code",
   "execution_count": null,
   "metadata": {},
   "outputs": [],
   "source": []
  },
  {
   "cell_type": "code",
   "execution_count": null,
   "metadata": {},
   "outputs": [],
   "source": []
  },
  {
   "cell_type": "code",
   "execution_count": null,
   "metadata": {},
   "outputs": [],
   "source": []
  },
  {
   "cell_type": "markdown",
   "metadata": {},
   "source": []
  }
 ],
 "metadata": {
  "kernelspec": {
   "display_name": "build_llm",
   "language": "python",
   "name": "python3"
  },
  "language_info": {
   "codemirror_mode": {
    "name": "ipython",
    "version": 3
   },
   "file_extension": ".py",
   "mimetype": "text/x-python",
   "name": "python",
   "nbconvert_exporter": "python",
   "pygments_lexer": "ipython3",
   "version": "3.11.8"
  }
 },
 "nbformat": 4,
 "nbformat_minor": 2
}
